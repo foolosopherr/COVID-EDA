{
 "cells": [
  {
   "cell_type": "code",
   "execution_count": 330,
   "id": "882d4fa3-5f12-466e-ac14-22f601f94502",
   "metadata": {},
   "outputs": [
    {
     "data": {
      "text/plain": [
       "{'divide': 'warn', 'over': 'warn', 'under': 'ignore', 'invalid': 'warn'}"
      ]
     },
     "execution_count": 330,
     "metadata": {},
     "output_type": "execute_result"
    }
   ],
   "source": [
    "import pandas as pd\n",
    "import numpy as np\n",
    "import plotly.express as px\n",
    "import matplotlib.pyplot as plt\n",
    "import seaborn as sns\n",
    "from tqdm.notebook import tqdm\n",
    "np.seterr(divide = 'ignore') "
   ]
  },
  {
   "cell_type": "code",
   "execution_count": 193,
   "id": "5f1c95fa-4ccd-4e1d-b5c5-8cbc27bf2972",
   "metadata": {},
   "outputs": [],
   "source": [
    "df = pd.read_csv('Covid Live.csv', index_col='#')\n",
    "df.columns = list(map(lambda x: x.replace('\\n', ' '), df.columns))\n",
    "for col in df.columns.drop(['Country, Other', 'New Deaths']):\n",
    "    df[col] = df[col].str.replace(',', '')\n",
    "    df[col] = df[col].astype('float')"
   ]
  },
  {
   "cell_type": "code",
   "execution_count": 194,
   "id": "e673c2da-7e0c-4db6-a8fa-a7707df20c45",
   "metadata": {},
   "outputs": [
    {
     "data": {
      "text/plain": [
       "(227, 20)"
      ]
     },
     "execution_count": 194,
     "metadata": {},
     "output_type": "execute_result"
    }
   ],
   "source": [
    "countries = pd.read_csv('countries of the world.csv', decimal=',')\n",
    "countries['Country'] = countries['Country'].str.strip().str.replace('&', 'and')\n",
    "countries.shape"
   ]
  },
  {
   "cell_type": "code",
   "execution_count": 195,
   "id": "bdced2b5-dda8-46c2-baca-77c5c1f9724e",
   "metadata": {},
   "outputs": [],
   "source": [
    "import pycountry_convert as pc"
   ]
  },
  {
   "cell_type": "code",
   "execution_count": 196,
   "id": "c6a7bcd7-13ec-421b-baac-9467876d8dae",
   "metadata": {},
   "outputs": [],
   "source": [
    "def country_to_continent(country_name):\n",
    "    if country_name in ['Sint Maarten', 'St. Vincent Grenadines']:\n",
    "        return 'North America'\n",
    "    if country_name == 'Vatican City':\n",
    "        return 'Europe'\n",
    "    if country_name == 'Western Sahara':\n",
    "        return 'Africa'\n",
    "    country_alpha2 = pc.country_name_to_country_alpha2(country_name)\n",
    "    if country_alpha2 == 'TL':\n",
    "        return 'Asia'\n",
    "    else:\n",
    "        country_continent_code = pc.country_alpha2_to_continent_code(country_alpha2)        \n",
    "        country_continent_name = pc.convert_continent_code_to_continent_name(country_continent_code)\n",
    "    return country_continent_name"
   ]
  },
  {
   "cell_type": "code",
   "execution_count": 197,
   "id": "493b26ff-3745-4725-afae-be8a390ee210",
   "metadata": {},
   "outputs": [],
   "source": [
    "countries = countries.replace({\n",
    "    'Bahamas, The': 'Bahamas', \n",
    "    'Virgin Islands': 'Virgin Islands, U.S.', \n",
    "    'Burma': 'Myanmar', \n",
    "    'Central African Rep.': 'Central African Republic',\n",
    "    'Congo, Dem. Rep.': 'Congo', \n",
    "    \"Cote d'Ivoire\": \"Côte d'Ivoire\",\n",
    "    'Gambia, The': 'Gambia',\n",
    "    'Korea, North': 'North Korea',\n",
    "    'Korea, South': 'South Korea', \n",
    "    'Micronesia, Fed. St.': 'Micronesia', \n",
    "    'N. Mariana Islands':'Northern Mariana Islands', \n",
    "    'Reunion':'Réunion',\n",
    "    'Saint Helena': 'Saint Helena, Ascension and Tristan da Cunha',\n",
    "    'St Pierre and Miquelon':'Saint Pierre and Miquelon', \n",
    "    'Turks and Caicos Is':'Turks and Caicos Islands'\n",
    "})\n",
    "\n",
    "df = df.replace({\n",
    "    'S. Korea': 'South Korea',\n",
    "    'UK': 'United Kingdom',\n",
    "    'DPRK': 'North Korea',\n",
    "    'UAE': 'United Arab Emirates',\n",
    "    'DRC': 'Congo',\n",
    "    'Faeroe Islands': 'Faroe Islands',\n",
    "    'CAR': 'Central African Republic', \n",
    "    'Caribbean Netherlands': 'Bonaire', \n",
    "    'St. Barth': 'Saint Barthélemy',\n",
    "    'Saint Pierre Miquelon': 'Saint Pierre and Miquelon',\n",
    "    'Saint Helena': 'Saint Helena, Ascension and Tristan da Cunha'\n",
    "})\n",
    "\n",
    "df = df[~df['Country, Other'].isin(['Channel Islands', 'Diamond Princess', 'MS Zaandam', \n",
    "                                    'Sint Maarten', 'St. Vincent Grenadines', 'Vatican City'])]\n",
    "countries = countries[~countries['Country'].isin(['Congo, Repub. of the', 'Gaza Strip', \n",
    "                                                  'Netherlands Antilles', 'British Virgin Is.',\n",
    "                                                  'West Bank'])]"
   ]
  },
  {
   "cell_type": "code",
   "execution_count": 198,
   "id": "bc833283-37b7-44f2-8993-a1a29c5da1e5",
   "metadata": {},
   "outputs": [],
   "source": [
    "df['Alpha3 code'] = list(map(pc.country_name_to_country_alpha3, df['Country, Other']))\n",
    "countries['Alpha3 code'] = list(map(pc.country_name_to_country_alpha3, countries['Country']))\n",
    "countries = countries.drop('Population', axis=1)\n",
    "df = pd.merge(df, countries, on='Alpha3 code')\n",
    "df['Continent'] = df['Country, Other'].apply(country_to_continent)\n",
    "df = df.drop(['Country'], axis=1)"
   ]
  },
  {
   "cell_type": "code",
   "execution_count": 199,
   "id": "8ffb475b-a459-4875-803d-3328413d657a",
   "metadata": {},
   "outputs": [],
   "source": [
    "import plotly.graph_objects as go\n",
    "from ipywidgets import widgets\n",
    "import plotly.io as pio\n",
    "pio.renderers.default = \"iframe\""
   ]
  },
  {
   "cell_type": "code",
   "execution_count": 202,
   "id": "33d1f216-0c8d-41fb-9ea0-b765fa9ac1ee",
   "metadata": {},
   "outputs": [],
   "source": [
    "def show_fig(df):\n",
    "    fig = px.histogram(df, x='Deaths/ 1M pop', color='Continent', nbins=10, barmode='group', title='Deaths/ 1M pop')\n",
    "    f = go.FigureWidget(fig)\n",
    "    options = df.dtypes[df.dtypes != 'object'].index.to_list()\n",
    "    x_widget = widgets.Dropdown(options=options, \n",
    "                                value='Deaths/ 1M pop', \n",
    "                                description='X axis:')\n",
    "    continents = df['Continent'].unique()\n",
    "    \n",
    "    lst_bins = np.arange(5, 51, 5)\n",
    "    n_bins_widget = widgets.Dropdown(options=lst_bins, \n",
    "                                     value=10,\n",
    "                                     description='Number of bins:')\n",
    "    \n",
    "    barmode_lst = ['group', 'overlay', 'stack']\n",
    "    barmode_widget = widgets.Dropdown(options=barmode_lst, \n",
    "                                      value='group', \n",
    "                                      description='Barmode:')\n",
    "    \n",
    "    barnorm_lst = ['fraction', 'percent', 'default']\n",
    "    barnorm_widget = widgets.Dropdown(options=barnorm_lst,\n",
    "                                      value='default',\n",
    "                                      description='Barnorm:')\n",
    "    \n",
    "    def validate():\n",
    "        return x_widget.value in options and n_bins_widget.value in lst_bins \\\n",
    "            and barmode_widget.value in barmode_lst and barnorm_widget.value in barnorm_lst\n",
    "    \n",
    "    def response(change):\n",
    "        if validate():\n",
    "            col = x_widget.value\n",
    "            nbins = n_bins_widget.value\n",
    "            barmode_val = barmode_widget.value\n",
    "            barnorm_val = barnorm_widget.value if barnorm_widget.value != 'default' else None\n",
    "            for i, c in enumerate(continents):\n",
    "                _temp = df[df['Continent'] == c][col]\n",
    "                f.data[i].x = _temp.values\n",
    "                f.data[i].nbinsx = int(nbins)\n",
    "                f.data[i].marker.opacity = 0.5 if barmode_val == 'overlay' else 1\n",
    "                f.layout.title.text = col\n",
    "                f.layout.barnorm = barnorm_val\n",
    "                f.layout.barmode = barmode_val\n",
    "                \n",
    "    x_widget.observe(response, names='value')\n",
    "    n_bins_widget.observe(response, names='value')\n",
    "    barmode_widget.observe(response, names='value')\n",
    "    barnorm_widget.observe(response, names='value')\n",
    "    \n",
    "    container = widgets.HBox([x_widget, n_bins_widget, barmode_widget, barnorm_widget])\n",
    "    box = widgets.VBox([container, f])\n",
    "    return box"
   ]
  },
  {
   "cell_type": "code",
   "execution_count": 204,
   "id": "89ce88d8",
   "metadata": {},
   "outputs": [
    {
     "data": {
      "application/vnd.jupyter.widget-view+json": {
       "model_id": "5699941a08d84333baac029e9388a22a",
       "version_major": 2,
       "version_minor": 0
      },
      "text/plain": [
       "VBox(children=(HBox(children=(Dropdown(description='X axis:', index=7, options=('Total Cases', 'Total Deaths',…"
      ]
     },
     "metadata": {},
     "output_type": "display_data"
    }
   ],
   "source": [
    "fig = show_fig(df)\n",
    "fig"
   ]
  },
  {
   "cell_type": "code",
   "execution_count": 205,
   "id": "1d4db99e",
   "metadata": {},
   "outputs": [],
   "source": [
    "def show_scatter(df):\n",
    "    fig = px.scatter(df, x='Deaths/ 1M pop', y='Deathrate', color='Continent', title='Scatter plot', hover_name='Country, Other', width=600, height=600)\n",
    "    \n",
    "    f = go.FigureWidget(fig)\n",
    "    options = df.dtypes[df.dtypes != 'object'].index.to_list()\n",
    "    x_widget = widgets.Dropdown(options=options, \n",
    "                                value='Deaths/ 1M pop', \n",
    "                                description='X axis:')\n",
    "    \n",
    "    y_widget = widgets.Dropdown(options=options, \n",
    "                                value='Deathrate', \n",
    "                                description='Y axis:')\n",
    "    \n",
    "    continents = df['Continent'].unique()\n",
    "    \n",
    "    def validate():\n",
    "        return x_widget.value in options and y_widget.value in options\n",
    "    \n",
    "    def response(change):\n",
    "        if validate():\n",
    "            x_val = x_widget.value\n",
    "            y_val = y_widget.value\n",
    "            for i, c in enumerate(continents):\n",
    "                _temp = df[df['Continent'] == c]\n",
    "                f.data[i].x = _temp[x_val].values\n",
    "                f.data[i].y = _temp[y_val].values\n",
    "                f.layout.xaxis.title.text = x_val\n",
    "                f.layout.yaxis.title.text = y_val\n",
    "                \n",
    "    x_widget.observe(response, names='value')\n",
    "    y_widget.observe(response, names='value')\n",
    "    \n",
    "    container = widgets.HBox([x_widget, y_widget])\n",
    "    box = widgets.VBox([container, f])\n",
    "    return box"
   ]
  },
  {
   "cell_type": "code",
   "execution_count": 206,
   "id": "481a9b74",
   "metadata": {},
   "outputs": [
    {
     "data": {
      "application/vnd.jupyter.widget-view+json": {
       "model_id": "8d2ab65faf964d459d315d99214ff0d3",
       "version_major": 2,
       "version_minor": 0
      },
      "text/plain": [
       "VBox(children=(HBox(children=(Dropdown(description='X axis:', index=7, options=('Total Cases', 'Total Deaths',…"
      ]
     },
     "metadata": {},
     "output_type": "display_data"
    }
   ],
   "source": [
    "show_scatter(df)"
   ]
  },
  {
   "cell_type": "code",
   "execution_count": 221,
   "id": "9dd2d90a",
   "metadata": {},
   "outputs": [],
   "source": [
    "def show_heatmap(df):\n",
    "    heatmap = px.imshow(df[df.dtypes[df.dtypes != 'object'].index].corr(), color_continuous_midpoint=0,\n",
    "                        color_continuous_scale='tropic', height=800, width=800, title = 'Heatmap (All continents)')\n",
    "    f = go.FigureWidget(heatmap)\n",
    "    \n",
    "    continents = list(df['Continent'].unique()) + ['All']\n",
    "    continent_widget = widgets.Dropdown(options=continents, \n",
    "                                        value='All', \n",
    "                                        description='Continent:')\n",
    "    \n",
    "    def validate():\n",
    "        return continent_widget.value in continents\n",
    "    \n",
    "    def response(change):\n",
    "        if validate():\n",
    "            c_val = continent_widget.value\n",
    "            if c_val == 'All':\n",
    "                f.data[0].z = df[df.dtypes[df.dtypes != 'object'].index].corr()\n",
    "                f.layout.title.text = 'Heatmap (all continents)'\n",
    "            else:\n",
    "                _temp = df[df['Continent'] == c_val]\n",
    "                f.data[0].z = _temp[_temp.dtypes[_temp.dtypes != 'object'].index].corr()\n",
    "                f.layout.title.text = f'Heatmap ({c_val})'\n",
    "                \n",
    "    continent_widget.observe(response, names='value')\n",
    "    return widgets.VBox([continent_widget, f])"
   ]
  },
  {
   "cell_type": "code",
   "execution_count": 159,
   "id": "d1484abc",
   "metadata": {},
   "outputs": [
    {
     "data": {
      "text/html": [
       "<iframe\n",
       "    scrolling=\"no\"\n",
       "    width=\"100%\"\n",
       "    height=\"545px\"\n",
       "    src=\"iframe_figures/figure_159.html\"\n",
       "    frameborder=\"0\"\n",
       "    allowfullscreen\n",
       "></iframe>\n"
      ]
     },
     "metadata": {},
     "output_type": "display_data"
    }
   ],
   "source": [
    "fig = px.bar(df, x='Continent', y='Climate', color='Crops (%)', \n",
    "             hover_name='Country, Other', text='Country, Other',\n",
    "             title='Bar plot', color_continuous_scale='tropic')\n",
    "fig.update_traces(textposition='inside')"
   ]
  },
  {
   "cell_type": "code",
   "execution_count": 308,
   "id": "f1e41ea6",
   "metadata": {},
   "outputs": [],
   "source": [
    "df['Alpha3 code'] = list(map(pc.country_name_to_country_alpha3, df['Country, Other']))"
   ]
  },
  {
   "cell_type": "code",
   "execution_count": 353,
   "id": "f6bf864d",
   "metadata": {},
   "outputs": [
    {
     "data": {
      "text/plain": [
       "'asia'"
      ]
     },
     "execution_count": 353,
     "metadata": {},
     "output_type": "execute_result"
    }
   ],
   "source": [
    "s = 'Asia'\n",
    "s.lower()"
   ]
  },
  {
   "cell_type": "code",
   "execution_count": null,
   "id": "5c934635",
   "metadata": {},
   "outputs": [],
   "source": []
  },
  {
   "cell_type": "code",
   "execution_count": 400,
   "id": "802fec1b",
   "metadata": {},
   "outputs": [],
   "source": [
    "df['Region'] = df['Region'].str.strip().str.title()"
   ]
  },
  {
   "cell_type": "code",
   "execution_count": 368,
   "id": "747e3bae",
   "metadata": {},
   "outputs": [],
   "source": [
    "def draw_map(df):\n",
    "\n",
    "    fig = px.choropleth(df, \n",
    "                        locations='Alpha3 code', \n",
    "                        color='Population', \n",
    "                        featureidkey='properties.Population', scope='world', hover_name='Country, Other', \n",
    "                        hover_data={'Alpha3 code':False}, title='Population around the world', \n",
    "                        color_continuous_scale='tropic', projection='equirectangular',\n",
    "                        )\n",
    "    \n",
    "    f = go.FigureWidget(fig)\n",
    "    \n",
    "    options = df.dtypes[df.dtypes != 'object'].index\n",
    "    col_widget = widgets.Dropdown(options=options, \n",
    "                                  value='Population', \n",
    "                                  description='Feature:')\n",
    "    \n",
    "    scopes = ['World', 'North America', 'Asia', 'Europe', 'South America', 'Africa']\n",
    "    scope_widget = widgets.Dropdown(options=scopes, \n",
    "                                    value='World',\n",
    "                                    description='Continent:')\n",
    "    \n",
    "    scales = ['default', 'log']\n",
    "    scale_widget = widgets.Dropdown(options=scales,\n",
    "                                    value='default',\n",
    "                                    description='Scale:')\n",
    "    \n",
    "    all_projections = ['equirectangular', 'mercator', 'orthographic', 'natural earth', \n",
    "                       'kavrayskiy7', 'miller', 'robinson', 'eckert4', 'azimuthal equal area', \n",
    "                       'azimuthal equidistant', 'conic equal area', 'conic conformal', \n",
    "                       'conic equidistant', 'gnomonic', 'stereographic', 'mollweide', 'hammer', \n",
    "                       'transverse mercator', 'winkel tripel', 'aitoff', 'sinusoidal']\n",
    "    projection_widget = widgets.Dropdown(options=all_projections, \n",
    "                                         value='equirectangular',\n",
    "                                         description='Projection:')\n",
    "    \n",
    "    \n",
    "    def validate():\n",
    "        return col_widget.value in options and scope_widget.value in scopes and \\\n",
    "               scale_widget.value in scales and projection_widget.value in all_projections\n",
    "    \n",
    "    def response(change):\n",
    "        if validate():\n",
    "            col = col_widget.value\n",
    "            scope_val = scope_widget.value.lower()\n",
    "            scale_val = scale_widget.value\n",
    "            projection = projection_widget.value\n",
    "            \n",
    "            f.data[0].featureidkey = f'properties.{col}'\n",
    "            if scale_val == 'log':\n",
    "                f.data[0].z = np.log(df[col].values)\n",
    "            else:\n",
    "                f.data[0].z = df[col].values\n",
    "            f.layout.coloraxis.colorbar.title.text = col\n",
    "            f.layout.geo.scope = scope_val\n",
    "            if scope_val == 'world':\n",
    "                f.layout.title.text = f'{col} around the world'\n",
    "            else:\n",
    "                f.layout.title.text = f'{col} in {scope_val.title()}'\n",
    "            if scale_val == 'log':\n",
    "                f.layout.title.text = f.layout.title.text + ' (logarithmic scale)'\n",
    "            f.layout.geo.projection.type = projection\n",
    "                \n",
    "    col_widget.observe(response, names='value')\n",
    "    scope_widget.observe(response, names='value')\n",
    "    scale_widget.observe(response, names='value')\n",
    "    projection_widget.observe(response, names='value')\n",
    "    \n",
    "    container = widgets.HBox([col_widget, scope_widget, scale_widget, projection_widget])\n",
    "    return widgets.VBox([container, f])"
   ]
  },
  {
   "cell_type": "code",
   "execution_count": 370,
   "id": "d3277adb",
   "metadata": {},
   "outputs": [],
   "source": [
    "# draw_map(df)"
   ]
  },
  {
   "cell_type": "code",
   "execution_count": null,
   "id": "9333cf92",
   "metadata": {},
   "outputs": [],
   "source": []
  },
  {
   "cell_type": "code",
   "execution_count": 453,
   "id": "4b3e8296",
   "metadata": {},
   "outputs": [],
   "source": [
    "def plot_sunburst(df):\n",
    "    fig = px.sunburst(df,\n",
    "                      path=['Continent', 'Region', 'Country, Other'],\n",
    "                      values=\"Total Cases\",\n",
    "                      title=\"Sunburst plot (feature: Total Cases)\", branchvalues='total', height=500, width=500)\n",
    "    f = go.FigureWidget(fig)\n",
    "    \n",
    "    options = df.dtypes[df.dtypes != 'object'].index\n",
    "    \n",
    "    col_widget = widgets.Dropdown(options=options,\n",
    "                                  value='Total Cases', \n",
    "                                  description='Feature:')\n",
    "    lst = f.data[0].ids\n",
    "    \n",
    "    def create_values_array(column, df=df, lst=lst):\n",
    "        vals = []\n",
    "        for l in lst:\n",
    "            kek = l.split('/')\n",
    "            if len(kek) == 3:\n",
    "                _temp = df.groupby(by='Country, Other')[column]\n",
    "                vals.append(_temp.sum().loc[kek[-1]])\n",
    "            elif len(kek) == 2:\n",
    "                _temp = df.groupby(by=['Continent', 'Region'])[column]\n",
    "                vals.append(_temp.sum().loc[(kek[-2], kek[-1])])\n",
    "            else:\n",
    "                _temp = df.groupby(by='Continent')[column]\n",
    "                vals.append(_temp.sum().loc[kek[0]])\n",
    "        return vals\n",
    "    \n",
    "    def validate():\n",
    "        return col_widget.value in options\n",
    "    \n",
    "    def response(change):\n",
    "        if validate():\n",
    "            col = col_widget.value\n",
    "            f.data[0].values = create_values_array(col)\n",
    "            f.layout.title.text = f\"Sunburst plot (feature: {col})\"\n",
    "            \n",
    "    col_widget.observe(response, names='value')\n",
    "    return widgets.VBox([col_widget, f])"
   ]
  },
  {
   "cell_type": "code",
   "execution_count": 455,
   "id": "2515574e",
   "metadata": {},
   "outputs": [],
   "source": [
    "# plot_sunburst(df)"
   ]
  },
  {
   "cell_type": "code",
   "execution_count": null,
   "id": "1218dab0",
   "metadata": {},
   "outputs": [],
   "source": []
  }
 ],
 "metadata": {
  "kernelspec": {
   "display_name": "Python 3 (ipykernel)",
   "language": "python",
   "name": "python3"
  },
  "language_info": {
   "codemirror_mode": {
    "name": "ipython",
    "version": 3
   },
   "file_extension": ".py",
   "mimetype": "text/x-python",
   "name": "python",
   "nbconvert_exporter": "python",
   "pygments_lexer": "ipython3",
   "version": "3.8.13"
  },
  "widgets": {
   "application/vnd.jupyter.widget-state+json": {
    "state": {
     "131b53806ace42c38e2ba3e205b284bf": {
      "buffers": [
       {
        "data": "AAAAAACAd0AAAAAAAEiBQAAAAAAAQHZAAAAAAAB4kkAAAAAAAEB7QAAAAAAAPJpAAAAAAACwgUAAAAAAANB8QAAAAAAAIJFAAAAAAAAACEAAAAAAAEB9QAAAAAAAmJNAAAAAAAB4gUAAAAAAAMiCQAAAAAAA4GVAAAAAAAAAcUAAAAAAAKKwQAAAAAAA3JRAAAAAAABslUAAAAAAAKBgQAAAAAAASIZAAAAAAAD0mEAAAAAAACBtQAAAAAAA4HhAAAAAAAAohEAAAAAAABCOQAAAAAAAUHBAAAAAAACgikAAAAAAAEiIQAAAAAAASIJAAAAAAAAAdkAAAAAAACiOQAAAAAAAoGxAAAAAAADUpkAAAAAAAACJQAAAAAAAABBAAAAAAAAASEAAAAAAAJB/QAAAAAAAQFlAAAAAAADQe0AAAAAAAOBnQAAAAAAAyIFAAAAAAABAZkAAAAAAAAA7QAAAAAAAYGRAAAAAAAAAKkAAAAAAAEBRQA==",
        "encoding": "base64",
        "path": [
         "_data",
         0,
         "x",
         "value"
        ]
       },
       {
        "data": "AAAAAAB6okAAAAAAAPCbQAAAAAAAqqVAAAAAAAD0pkAAAAAAAL6kQAAAAAAAFKNAAAAAAACQlEAAAAAAAFSoQAAAAAAASKNAAAAAAADAo0AAAAAAAN6hQAAAAAAAEqlAAAAAAADepUAAAAAAAESZQAAAAAAAgqtAAAAAAADskkAAAAAAAOCeQAAAAAAAtJ5AAAAAAABRs0AAAAAAAEStQAAAAAAAnJhAAAAAAABAh0AAAAAAANSQQAAAAAAAhrVAAAAAAABcq0AAAAAAAESwQAAAAAAApKlAAAAAAACYh0AAAAAAAFCpQAAAAAAAsJ9AAAAAAAAOp0AAAAAAAGazQAAAAAAAkJNAAAAAAABQm0AAAAAAAEiDQAAAAAAAXJxAAAAAAABEn0AAAAAAACSVQAAAAAAAyIFAAAAAAAAMq0AAAAAAAAipQAAAAAAAgKFAAAAAAADAmEA=",
        "encoding": "base64",
        "path": [
         "_data",
         1,
         "x",
         "value"
        ]
       },
       {
        "data": "AAAAAADkqEAAAAAAAA6mQAAAAAAAgqVAAAAAAADQqEAAAAAAAB25QAAAAAAA+JxAAAAAAAD4nkAAAAAAALqgQAAAAAAA8KRAAAAAAADgaEAAAAAAAGSUQAAAAAAAIqJAAAAAAAA0mUA=",
        "encoding": "base64",
        "path": [
         "_data",
         2,
         "x",
         "value"
        ]
       },
       {
        "data": "AAAAAAD4gUAAAAAAAOCCQAAAAAAA2KFAAAAAAADckEAAAAAAACiOQAAAAAAAAFJAAAAAAACAakAAAAAAAMBbQAAAAAAA4GFAAAAAAACwcUAAAAAAAABGQAAAAAAA4G5AAAAAAACATEAAAAAAAJB0QAAAAAAAAFdAAAAAAABAWkAAAAAAAOiDQAAAAAAAAPh/",
        "encoding": "base64",
        "path": [
         "_data",
         3,
         "x",
         "value"
        ]
       },
       {
        "data": "AAAAAACao0AAAAAAAFCSQAAAAAAApJBAAAAAAACQh0AAAAAAAOCaQAAAAAAA3J1AAAAAAADQeEAAAAAAANCQQAAAAAAAzqVAAAAAAAAwhEAAAAAAAFSjQAAAAAAATKdAAAAAAABckUAAAAAAAFSeQAAAAAAA5JlAAAAAAAB6oEAAAAAAAECgQAAAAAAAQFJAAAAAAADAfUAAAAAAAICgQAAAAAAAUqBAAAAAAACAQEAAAAAAAKqiQAAAAAAA+I9AAAAAAAAQd0AAAAAAAOyWQAAAAAAAsIpAAAAAAACgiEAAAAAAAMBlQAAAAAAALJlA",
        "encoding": "base64",
        "path": [
         "_data",
         4,
         "x",
         "value"
        ]
       },
       {
        "data": "AAAAAABImkAAAAAAAPB6QAAAAAAA+KJAAAAAAAAAbUAAAAAAAJCMQAAAAAAAgE9AAAAAAAC4jkAAAAAAAEBZQAAAAAAAwGlAAAAAAADYkUAAAAAAAABjQAAAAAAAAC5AAAAAAADQdkAAAAAAAMBQQAAAAAAAwFJAAAAAAAAcmEAAAAAAAIBGQAAAAAAAAFtAAAAAAABAUUAAAAAAAIBLQAAAAAAAAC5AAAAAAADAUEAAAAAAAMBbQAAAAAAAoGBAAAAAAAAASEAAAAAAAABbQAAAAAAAYGlAAAAAAAAACEAAAAAAAGBgQAAAAAAAkJpAAAAAAAAYiUAAAAAAAGiEQAAAAAAAACpAAAAAAACAQEAAAAAAAABAQAAAAAAAQHRAAAAAAACAQUAAAAAAAAAqQAAAAAAAAFRAAAAAAAAAMkAAAAAAAIBeQAAAAAAAQGdAAAAAAAAAN0AAAAAAACBiQAAAAAAAADxAAAAAAAAAKEAAAAAAAEBVQAAAAAAAIGZAAAAAAACAS0AAAAAAAAAuQAAAAAAAACZAAAAAAAAgdUAAAAAAAAD4fwAAAAAAAABA",
        "encoding": "base64",
        "path": [
         "_data",
         5,
         "x",
         "value"
        ]
       }
      ],
      "model_module": "jupyterlab-plotly",
      "model_module_version": "^5.10.0",
      "model_name": "FigureModel",
      "state": {
       "_config": {
        "plotlyServerURL": "https://plot.ly"
       },
       "_data": [
        {
         "alignmentgroup": "True",
         "bingroup": "x",
         "hovertemplate": "Continent=Asia<br>Deaths/ 1M pop=%{x}<br>count=%{y}<extra></extra>",
         "legendgroup": "Asia",
         "marker": {
          "color": "#636efa",
          "pattern": {
           "shape": ""
          }
         },
         "name": "Asia",
         "nbinsx": 10,
         "offsetgroup": "Asia",
         "orientation": "v",
         "showlegend": true,
         "type": "histogram",
         "uid": "7e8cd7a9-cb27-4c83-8323-e27a605c9c08",
         "x": {
          "dtype": "float64",
          "shape": [
           47
          ],
          "value": {}
         },
         "xaxis": "x",
         "yaxis": "y"
        },
        {
         "alignmentgroup": "True",
         "bingroup": "x",
         "hovertemplate": "Continent=Europe<br>Deaths/ 1M pop=%{x}<br>count=%{y}<extra></extra>",
         "legendgroup": "Europe",
         "marker": {
          "color": "#EF553B",
          "pattern": {
           "shape": ""
          }
         },
         "name": "Europe",
         "nbinsx": 10,
         "offsetgroup": "Europe",
         "orientation": "v",
         "showlegend": true,
         "type": "histogram",
         "uid": "65fcaa64-6659-4bab-a929-dfaead0c0d27",
         "x": {
          "dtype": "float64",
          "shape": [
           43
          ],
          "value": {}
         },
         "xaxis": "x",
         "yaxis": "y"
        },
        {
         "alignmentgroup": "True",
         "bingroup": "x",
         "hovertemplate": "Continent=South America<br>Deaths/ 1M pop=%{x}<br>count=%{y}<extra></extra>",
         "legendgroup": "South America",
         "marker": {
          "color": "#00cc96",
          "pattern": {
           "shape": ""
          }
         },
         "name": "South America",
         "nbinsx": 10,
         "offsetgroup": "South America",
         "orientation": "v",
         "showlegend": true,
         "type": "histogram",
         "uid": "86f76ba4-e3bc-485b-a10d-733b4c6b086d",
         "x": {
          "dtype": "float64",
          "shape": [
           13
          ],
          "value": {}
         },
         "xaxis": "x",
         "yaxis": "y"
        },
        {
         "alignmentgroup": "True",
         "bingroup": "x",
         "hovertemplate": "Continent=Oceania<br>Deaths/ 1M pop=%{x}<br>count=%{y}<extra></extra>",
         "legendgroup": "Oceania",
         "marker": {
          "color": "#ab63fa",
          "pattern": {
           "shape": ""
          }
         },
         "name": "Oceania",
         "nbinsx": 10,
         "offsetgroup": "Oceania",
         "orientation": "v",
         "showlegend": true,
         "type": "histogram",
         "uid": "992b26bf-1ed5-4be3-8523-b31233b88511",
         "x": {
          "dtype": "float64",
          "shape": [
           18
          ],
          "value": {}
         },
         "xaxis": "x",
         "yaxis": "y"
        },
        {
         "alignmentgroup": "True",
         "bingroup": "x",
         "hovertemplate": "Continent=North America<br>Deaths/ 1M pop=%{x}<br>count=%{y}<extra></extra>",
         "legendgroup": "North America",
         "marker": {
          "color": "#FFA15A",
          "pattern": {
           "shape": ""
          }
         },
         "name": "North America",
         "nbinsx": 10,
         "offsetgroup": "North America",
         "orientation": "v",
         "showlegend": true,
         "type": "histogram",
         "uid": "8b39c9d2-4458-46f4-9084-c8d4061a86a0",
         "x": {
          "dtype": "float64",
          "shape": [
           30
          ],
          "value": {}
         },
         "xaxis": "x",
         "yaxis": "y"
        },
        {
         "alignmentgroup": "True",
         "bingroup": "x",
         "hovertemplate": "Continent=Africa<br>Deaths/ 1M pop=%{x}<br>count=%{y}<extra></extra>",
         "legendgroup": "Africa",
         "marker": {
          "color": "#19d3f3",
          "pattern": {
           "shape": ""
          }
         },
         "name": "Africa",
         "nbinsx": 10,
         "offsetgroup": "Africa",
         "orientation": "v",
         "showlegend": true,
         "type": "histogram",
         "uid": "bd2eefd1-a7a9-4a68-8c31-ade38c9e4919",
         "x": {
          "dtype": "float64",
          "shape": [
           54
          ],
          "value": {}
         },
         "xaxis": "x",
         "yaxis": "y"
        }
       ],
       "_js2py_layoutDelta": {},
       "_js2py_pointsCallback": {},
       "_js2py_relayout": {},
       "_js2py_restyle": {},
       "_js2py_traceDeltas": {},
       "_js2py_update": {},
       "_layout": {
        "barmode": "group",
        "legend": {
         "title": {
          "text": "Continent"
         },
         "tracegroupgap": 0
        },
        "template": {
         "data": {
          "bar": [
           {
            "error_x": {
             "color": "#2a3f5f"
            },
            "error_y": {
             "color": "#2a3f5f"
            },
            "marker": {
             "line": {
              "color": "#E5ECF6",
              "width": 0.5
             },
             "pattern": {
              "fillmode": "overlay",
              "size": 10,
              "solidity": 0.2
             }
            },
            "type": "bar"
           }
          ],
          "barpolar": [
           {
            "marker": {
             "line": {
              "color": "#E5ECF6",
              "width": 0.5
             },
             "pattern": {
              "fillmode": "overlay",
              "size": 10,
              "solidity": 0.2
             }
            },
            "type": "barpolar"
           }
          ],
          "carpet": [
           {
            "aaxis": {
             "endlinecolor": "#2a3f5f",
             "gridcolor": "white",
             "linecolor": "white",
             "minorgridcolor": "white",
             "startlinecolor": "#2a3f5f"
            },
            "baxis": {
             "endlinecolor": "#2a3f5f",
             "gridcolor": "white",
             "linecolor": "white",
             "minorgridcolor": "white",
             "startlinecolor": "#2a3f5f"
            },
            "type": "carpet"
           }
          ],
          "choropleth": [
           {
            "colorbar": {
             "outlinewidth": 0,
             "ticks": ""
            },
            "type": "choropleth"
           }
          ],
          "contour": [
           {
            "colorbar": {
             "outlinewidth": 0,
             "ticks": ""
            },
            "colorscale": [
             [
              0,
              "#0d0887"
             ],
             [
              0.1111111111111111,
              "#46039f"
             ],
             [
              0.2222222222222222,
              "#7201a8"
             ],
             [
              0.3333333333333333,
              "#9c179e"
             ],
             [
              0.4444444444444444,
              "#bd3786"
             ],
             [
              0.5555555555555556,
              "#d8576b"
             ],
             [
              0.6666666666666666,
              "#ed7953"
             ],
             [
              0.7777777777777778,
              "#fb9f3a"
             ],
             [
              0.8888888888888888,
              "#fdca26"
             ],
             [
              1,
              "#f0f921"
             ]
            ],
            "type": "contour"
           }
          ],
          "contourcarpet": [
           {
            "colorbar": {
             "outlinewidth": 0,
             "ticks": ""
            },
            "type": "contourcarpet"
           }
          ],
          "heatmap": [
           {
            "colorbar": {
             "outlinewidth": 0,
             "ticks": ""
            },
            "colorscale": [
             [
              0,
              "#0d0887"
             ],
             [
              0.1111111111111111,
              "#46039f"
             ],
             [
              0.2222222222222222,
              "#7201a8"
             ],
             [
              0.3333333333333333,
              "#9c179e"
             ],
             [
              0.4444444444444444,
              "#bd3786"
             ],
             [
              0.5555555555555556,
              "#d8576b"
             ],
             [
              0.6666666666666666,
              "#ed7953"
             ],
             [
              0.7777777777777778,
              "#fb9f3a"
             ],
             [
              0.8888888888888888,
              "#fdca26"
             ],
             [
              1,
              "#f0f921"
             ]
            ],
            "type": "heatmap"
           }
          ],
          "heatmapgl": [
           {
            "colorbar": {
             "outlinewidth": 0,
             "ticks": ""
            },
            "colorscale": [
             [
              0,
              "#0d0887"
             ],
             [
              0.1111111111111111,
              "#46039f"
             ],
             [
              0.2222222222222222,
              "#7201a8"
             ],
             [
              0.3333333333333333,
              "#9c179e"
             ],
             [
              0.4444444444444444,
              "#bd3786"
             ],
             [
              0.5555555555555556,
              "#d8576b"
             ],
             [
              0.6666666666666666,
              "#ed7953"
             ],
             [
              0.7777777777777778,
              "#fb9f3a"
             ],
             [
              0.8888888888888888,
              "#fdca26"
             ],
             [
              1,
              "#f0f921"
             ]
            ],
            "type": "heatmapgl"
           }
          ],
          "histogram": [
           {
            "marker": {
             "pattern": {
              "fillmode": "overlay",
              "size": 10,
              "solidity": 0.2
             }
            },
            "type": "histogram"
           }
          ],
          "histogram2d": [
           {
            "colorbar": {
             "outlinewidth": 0,
             "ticks": ""
            },
            "colorscale": [
             [
              0,
              "#0d0887"
             ],
             [
              0.1111111111111111,
              "#46039f"
             ],
             [
              0.2222222222222222,
              "#7201a8"
             ],
             [
              0.3333333333333333,
              "#9c179e"
             ],
             [
              0.4444444444444444,
              "#bd3786"
             ],
             [
              0.5555555555555556,
              "#d8576b"
             ],
             [
              0.6666666666666666,
              "#ed7953"
             ],
             [
              0.7777777777777778,
              "#fb9f3a"
             ],
             [
              0.8888888888888888,
              "#fdca26"
             ],
             [
              1,
              "#f0f921"
             ]
            ],
            "type": "histogram2d"
           }
          ],
          "histogram2dcontour": [
           {
            "colorbar": {
             "outlinewidth": 0,
             "ticks": ""
            },
            "colorscale": [
             [
              0,
              "#0d0887"
             ],
             [
              0.1111111111111111,
              "#46039f"
             ],
             [
              0.2222222222222222,
              "#7201a8"
             ],
             [
              0.3333333333333333,
              "#9c179e"
             ],
             [
              0.4444444444444444,
              "#bd3786"
             ],
             [
              0.5555555555555556,
              "#d8576b"
             ],
             [
              0.6666666666666666,
              "#ed7953"
             ],
             [
              0.7777777777777778,
              "#fb9f3a"
             ],
             [
              0.8888888888888888,
              "#fdca26"
             ],
             [
              1,
              "#f0f921"
             ]
            ],
            "type": "histogram2dcontour"
           }
          ],
          "mesh3d": [
           {
            "colorbar": {
             "outlinewidth": 0,
             "ticks": ""
            },
            "type": "mesh3d"
           }
          ],
          "parcoords": [
           {
            "line": {
             "colorbar": {
              "outlinewidth": 0,
              "ticks": ""
             }
            },
            "type": "parcoords"
           }
          ],
          "pie": [
           {
            "automargin": true,
            "type": "pie"
           }
          ],
          "scatter": [
           {
            "fillpattern": {
             "fillmode": "overlay",
             "size": 10,
             "solidity": 0.2
            },
            "type": "scatter"
           }
          ],
          "scatter3d": [
           {
            "line": {
             "colorbar": {
              "outlinewidth": 0,
              "ticks": ""
             }
            },
            "marker": {
             "colorbar": {
              "outlinewidth": 0,
              "ticks": ""
             }
            },
            "type": "scatter3d"
           }
          ],
          "scattercarpet": [
           {
            "marker": {
             "colorbar": {
              "outlinewidth": 0,
              "ticks": ""
             }
            },
            "type": "scattercarpet"
           }
          ],
          "scattergeo": [
           {
            "marker": {
             "colorbar": {
              "outlinewidth": 0,
              "ticks": ""
             }
            },
            "type": "scattergeo"
           }
          ],
          "scattergl": [
           {
            "marker": {
             "colorbar": {
              "outlinewidth": 0,
              "ticks": ""
             }
            },
            "type": "scattergl"
           }
          ],
          "scattermapbox": [
           {
            "marker": {
             "colorbar": {
              "outlinewidth": 0,
              "ticks": ""
             }
            },
            "type": "scattermapbox"
           }
          ],
          "scatterpolar": [
           {
            "marker": {
             "colorbar": {
              "outlinewidth": 0,
              "ticks": ""
             }
            },
            "type": "scatterpolar"
           }
          ],
          "scatterpolargl": [
           {
            "marker": {
             "colorbar": {
              "outlinewidth": 0,
              "ticks": ""
             }
            },
            "type": "scatterpolargl"
           }
          ],
          "scatterternary": [
           {
            "marker": {
             "colorbar": {
              "outlinewidth": 0,
              "ticks": ""
             }
            },
            "type": "scatterternary"
           }
          ],
          "surface": [
           {
            "colorbar": {
             "outlinewidth": 0,
             "ticks": ""
            },
            "colorscale": [
             [
              0,
              "#0d0887"
             ],
             [
              0.1111111111111111,
              "#46039f"
             ],
             [
              0.2222222222222222,
              "#7201a8"
             ],
             [
              0.3333333333333333,
              "#9c179e"
             ],
             [
              0.4444444444444444,
              "#bd3786"
             ],
             [
              0.5555555555555556,
              "#d8576b"
             ],
             [
              0.6666666666666666,
              "#ed7953"
             ],
             [
              0.7777777777777778,
              "#fb9f3a"
             ],
             [
              0.8888888888888888,
              "#fdca26"
             ],
             [
              1,
              "#f0f921"
             ]
            ],
            "type": "surface"
           }
          ],
          "table": [
           {
            "cells": {
             "fill": {
              "color": "#EBF0F8"
             },
             "line": {
              "color": "white"
             }
            },
            "header": {
             "fill": {
              "color": "#C8D4E3"
             },
             "line": {
              "color": "white"
             }
            },
            "type": "table"
           }
          ]
         },
         "layout": {
          "annotationdefaults": {
           "arrowcolor": "#2a3f5f",
           "arrowhead": 0,
           "arrowwidth": 1
          },
          "autotypenumbers": "strict",
          "coloraxis": {
           "colorbar": {
            "outlinewidth": 0,
            "ticks": ""
           }
          },
          "colorscale": {
           "diverging": [
            [
             0,
             "#8e0152"
            ],
            [
             0.1,
             "#c51b7d"
            ],
            [
             0.2,
             "#de77ae"
            ],
            [
             0.3,
             "#f1b6da"
            ],
            [
             0.4,
             "#fde0ef"
            ],
            [
             0.5,
             "#f7f7f7"
            ],
            [
             0.6,
             "#e6f5d0"
            ],
            [
             0.7,
             "#b8e186"
            ],
            [
             0.8,
             "#7fbc41"
            ],
            [
             0.9,
             "#4d9221"
            ],
            [
             1,
             "#276419"
            ]
           ],
           "sequential": [
            [
             0,
             "#0d0887"
            ],
            [
             0.1111111111111111,
             "#46039f"
            ],
            [
             0.2222222222222222,
             "#7201a8"
            ],
            [
             0.3333333333333333,
             "#9c179e"
            ],
            [
             0.4444444444444444,
             "#bd3786"
            ],
            [
             0.5555555555555556,
             "#d8576b"
            ],
            [
             0.6666666666666666,
             "#ed7953"
            ],
            [
             0.7777777777777778,
             "#fb9f3a"
            ],
            [
             0.8888888888888888,
             "#fdca26"
            ],
            [
             1,
             "#f0f921"
            ]
           ],
           "sequentialminus": [
            [
             0,
             "#0d0887"
            ],
            [
             0.1111111111111111,
             "#46039f"
            ],
            [
             0.2222222222222222,
             "#7201a8"
            ],
            [
             0.3333333333333333,
             "#9c179e"
            ],
            [
             0.4444444444444444,
             "#bd3786"
            ],
            [
             0.5555555555555556,
             "#d8576b"
            ],
            [
             0.6666666666666666,
             "#ed7953"
            ],
            [
             0.7777777777777778,
             "#fb9f3a"
            ],
            [
             0.8888888888888888,
             "#fdca26"
            ],
            [
             1,
             "#f0f921"
            ]
           ]
          },
          "colorway": [
           "#636efa",
           "#EF553B",
           "#00cc96",
           "#ab63fa",
           "#FFA15A",
           "#19d3f3",
           "#FF6692",
           "#B6E880",
           "#FF97FF",
           "#FECB52"
          ],
          "font": {
           "color": "#2a3f5f"
          },
          "geo": {
           "bgcolor": "white",
           "lakecolor": "white",
           "landcolor": "#E5ECF6",
           "showlakes": true,
           "showland": true,
           "subunitcolor": "white"
          },
          "hoverlabel": {
           "align": "left"
          },
          "hovermode": "closest",
          "mapbox": {
           "style": "light"
          },
          "paper_bgcolor": "white",
          "plot_bgcolor": "#E5ECF6",
          "polar": {
           "angularaxis": {
            "gridcolor": "white",
            "linecolor": "white",
            "ticks": ""
           },
           "bgcolor": "#E5ECF6",
           "radialaxis": {
            "gridcolor": "white",
            "linecolor": "white",
            "ticks": ""
           }
          },
          "scene": {
           "xaxis": {
            "backgroundcolor": "#E5ECF6",
            "gridcolor": "white",
            "gridwidth": 2,
            "linecolor": "white",
            "showbackground": true,
            "ticks": "",
            "zerolinecolor": "white"
           },
           "yaxis": {
            "backgroundcolor": "#E5ECF6",
            "gridcolor": "white",
            "gridwidth": 2,
            "linecolor": "white",
            "showbackground": true,
            "ticks": "",
            "zerolinecolor": "white"
           },
           "zaxis": {
            "backgroundcolor": "#E5ECF6",
            "gridcolor": "white",
            "gridwidth": 2,
            "linecolor": "white",
            "showbackground": true,
            "ticks": "",
            "zerolinecolor": "white"
           }
          },
          "shapedefaults": {
           "line": {
            "color": "#2a3f5f"
           }
          },
          "ternary": {
           "aaxis": {
            "gridcolor": "white",
            "linecolor": "white",
            "ticks": ""
           },
           "baxis": {
            "gridcolor": "white",
            "linecolor": "white",
            "ticks": ""
           },
           "bgcolor": "#E5ECF6",
           "caxis": {
            "gridcolor": "white",
            "linecolor": "white",
            "ticks": ""
           }
          },
          "title": {
           "x": 0.05
          },
          "xaxis": {
           "automargin": true,
           "gridcolor": "white",
           "linecolor": "white",
           "ticks": "",
           "title": {
            "standoff": 15
           },
           "zerolinecolor": "white",
           "zerolinewidth": 2
          },
          "yaxis": {
           "automargin": true,
           "gridcolor": "white",
           "linecolor": "white",
           "ticks": "",
           "title": {
            "standoff": 15
           },
           "zerolinecolor": "white",
           "zerolinewidth": 2
          }
         }
        },
        "title": {
         "text": "Deaths/ 1M pop"
        },
        "xaxis": {
         "anchor": "y",
         "domain": [
          0,
          1
         ],
         "title": {
          "text": "Deaths/ 1M pop"
         }
        },
        "yaxis": {
         "anchor": "x",
         "domain": [
          0,
          1
         ],
         "title": {
          "text": "count"
         }
        }
       },
       "_py2js_addTraces": {},
       "_py2js_animate": {},
       "_py2js_deleteTraces": {},
       "_py2js_moveTraces": {},
       "_py2js_relayout": {},
       "_py2js_removeLayoutProps": {},
       "_py2js_removeTraceProps": {},
       "_py2js_restyle": {},
       "_py2js_update": {},
       "_view_count": 0
      }
     },
     "1851a2cd07e74f598db7c21e45c804b2": {
      "model_module": "@jupyter-widgets/base",
      "model_module_version": "2.0.0",
      "model_name": "LayoutModel",
      "state": {}
     },
     "196587ff86fd45bd8986eb00d49a00ed": {
      "buffers": [
       {
        "data": "AAAAAACAd0AAAAAAAEiBQAAAAAAAQHZAAAAAAAB4kkAAAAAAAEB7QAAAAAAAPJpAAAAAAACwgUAAAAAAANB8QAAAAAAAIJFAAAAAAAAACEAAAAAAAEB9QAAAAAAAmJNAAAAAAAB4gUAAAAAAAMiCQAAAAAAA4GVAAAAAAAAAcUAAAAAAAKKwQAAAAAAA3JRAAAAAAABslUAAAAAAAKBgQAAAAAAASIZAAAAAAAD0mEAAAAAAACBtQAAAAAAA4HhAAAAAAAAohEAAAAAAABCOQAAAAAAAUHBAAAAAAACgikAAAAAAAEiIQAAAAAAASIJAAAAAAAAAdkAAAAAAACiOQAAAAAAAoGxAAAAAAADUpkAAAAAAAACJQAAAAAAAABBAAAAAAAAASEAAAAAAAJB/QAAAAAAAQFlAAAAAAADQe0AAAAAAAOBnQAAAAAAAyIFAAAAAAABAZkAAAAAAAAA7QAAAAAAAYGRAAAAAAAAAKkAAAAAAAEBRQA==",
        "encoding": "base64",
        "path": [
         "_data",
         0,
         "x",
         "value"
        ]
       },
       {
        "data": "AAAAAAB6okAAAAAAAPCbQAAAAAAAqqVAAAAAAAD0pkAAAAAAAL6kQAAAAAAAFKNAAAAAAACQlEAAAAAAAFSoQAAAAAAASKNAAAAAAADAo0AAAAAAAN6hQAAAAAAAEqlAAAAAAADepUAAAAAAAESZQAAAAAAAgqtAAAAAAADskkAAAAAAAOCeQAAAAAAAtJ5AAAAAAABRs0AAAAAAAEStQAAAAAAAnJhAAAAAAABAh0AAAAAAANSQQAAAAAAAhrVAAAAAAABcq0AAAAAAAESwQAAAAAAApKlAAAAAAACYh0AAAAAAAFCpQAAAAAAAsJ9AAAAAAAAOp0AAAAAAAGazQAAAAAAAkJNAAAAAAABQm0AAAAAAAEiDQAAAAAAAXJxAAAAAAABEn0AAAAAAACSVQAAAAAAAyIFAAAAAAAAMq0AAAAAAAAipQAAAAAAAgKFAAAAAAADAmEA=",
        "encoding": "base64",
        "path": [
         "_data",
         1,
         "x",
         "value"
        ]
       },
       {
        "data": "AAAAAADkqEAAAAAAAA6mQAAAAAAAgqVAAAAAAADQqEAAAAAAAB25QAAAAAAA+JxAAAAAAAD4nkAAAAAAALqgQAAAAAAA8KRAAAAAAADgaEAAAAAAAGSUQAAAAAAAIqJAAAAAAAA0mUA=",
        "encoding": "base64",
        "path": [
         "_data",
         2,
         "x",
         "value"
        ]
       },
       {
        "data": "AAAAAAD4gUAAAAAAAOCCQAAAAAAA2KFAAAAAAADckEAAAAAAACiOQAAAAAAAAFJAAAAAAACAakAAAAAAAMBbQAAAAAAA4GFAAAAAAACwcUAAAAAAAABGQAAAAAAA4G5AAAAAAACATEAAAAAAAJB0QAAAAAAAAFdAAAAAAABAWkAAAAAAAOiDQAAAAAAAAPh/",
        "encoding": "base64",
        "path": [
         "_data",
         3,
         "x",
         "value"
        ]
       },
       {
        "data": "AAAAAACao0AAAAAAAFCSQAAAAAAApJBAAAAAAACQh0AAAAAAAOCaQAAAAAAA3J1AAAAAAADQeEAAAAAAANCQQAAAAAAAzqVAAAAAAAAwhEAAAAAAAFSjQAAAAAAATKdAAAAAAABckUAAAAAAAFSeQAAAAAAA5JlAAAAAAAB6oEAAAAAAAECgQAAAAAAAQFJAAAAAAADAfUAAAAAAAICgQAAAAAAAUqBAAAAAAACAQEAAAAAAAKqiQAAAAAAA+I9AAAAAAAAQd0AAAAAAAOyWQAAAAAAAsIpAAAAAAACgiEAAAAAAAMBlQAAAAAAALJlA",
        "encoding": "base64",
        "path": [
         "_data",
         4,
         "x",
         "value"
        ]
       },
       {
        "data": "AAAAAABImkAAAAAAAPB6QAAAAAAA+KJAAAAAAAAAbUAAAAAAAJCMQAAAAAAAgE9AAAAAAAC4jkAAAAAAAEBZQAAAAAAAwGlAAAAAAADYkUAAAAAAAABjQAAAAAAAAC5AAAAAAADQdkAAAAAAAMBQQAAAAAAAwFJAAAAAAAAcmEAAAAAAAIBGQAAAAAAAAFtAAAAAAABAUUAAAAAAAIBLQAAAAAAAAC5AAAAAAADAUEAAAAAAAMBbQAAAAAAAoGBAAAAAAAAASEAAAAAAAABbQAAAAAAAYGlAAAAAAAAACEAAAAAAAGBgQAAAAAAAkJpAAAAAAAAYiUAAAAAAAGiEQAAAAAAAACpAAAAAAACAQEAAAAAAAABAQAAAAAAAQHRAAAAAAACAQUAAAAAAAAAqQAAAAAAAAFRAAAAAAAAAMkAAAAAAAIBeQAAAAAAAQGdAAAAAAAAAN0AAAAAAACBiQAAAAAAAADxAAAAAAAAAKEAAAAAAAEBVQAAAAAAAIGZAAAAAAACAS0AAAAAAAAAuQAAAAAAAACZAAAAAAAAgdUAAAAAAAAD4fwAAAAAAAABA",
        "encoding": "base64",
        "path": [
         "_data",
         5,
         "x",
         "value"
        ]
       }
      ],
      "model_module": "jupyterlab-plotly",
      "model_module_version": "^5.10.0",
      "model_name": "FigureModel",
      "state": {
       "_config": {
        "plotlyServerURL": "https://plot.ly"
       },
       "_data": [
        {
         "alignmentgroup": "True",
         "bingroup": "x",
         "hovertemplate": "Continent=Asia<br>Deaths/ 1M pop=%{x}<br>count=%{y}<extra></extra>",
         "legendgroup": "Asia",
         "marker": {
          "color": "#636efa",
          "pattern": {
           "shape": ""
          }
         },
         "name": "Asia",
         "nbinsx": 10,
         "offsetgroup": "Asia",
         "orientation": "v",
         "showlegend": true,
         "type": "histogram",
         "uid": "35f50c5b-0ed6-4dac-9c25-2c2a899c0086",
         "x": {
          "dtype": "float64",
          "shape": [
           47
          ],
          "value": {}
         },
         "xaxis": "x",
         "yaxis": "y"
        },
        {
         "alignmentgroup": "True",
         "bingroup": "x",
         "hovertemplate": "Continent=Europe<br>Deaths/ 1M pop=%{x}<br>count=%{y}<extra></extra>",
         "legendgroup": "Europe",
         "marker": {
          "color": "#EF553B",
          "pattern": {
           "shape": ""
          }
         },
         "name": "Europe",
         "nbinsx": 10,
         "offsetgroup": "Europe",
         "orientation": "v",
         "showlegend": true,
         "type": "histogram",
         "uid": "22d3659e-4425-4aa2-b36a-bae3a18f66ef",
         "x": {
          "dtype": "float64",
          "shape": [
           43
          ],
          "value": {}
         },
         "xaxis": "x",
         "yaxis": "y"
        },
        {
         "alignmentgroup": "True",
         "bingroup": "x",
         "hovertemplate": "Continent=South America<br>Deaths/ 1M pop=%{x}<br>count=%{y}<extra></extra>",
         "legendgroup": "South America",
         "marker": {
          "color": "#00cc96",
          "pattern": {
           "shape": ""
          }
         },
         "name": "South America",
         "nbinsx": 10,
         "offsetgroup": "South America",
         "orientation": "v",
         "showlegend": true,
         "type": "histogram",
         "uid": "1f30cc00-b1fa-4fbb-8009-53498eee7781",
         "x": {
          "dtype": "float64",
          "shape": [
           13
          ],
          "value": {}
         },
         "xaxis": "x",
         "yaxis": "y"
        },
        {
         "alignmentgroup": "True",
         "bingroup": "x",
         "hovertemplate": "Continent=Oceania<br>Deaths/ 1M pop=%{x}<br>count=%{y}<extra></extra>",
         "legendgroup": "Oceania",
         "marker": {
          "color": "#ab63fa",
          "pattern": {
           "shape": ""
          }
         },
         "name": "Oceania",
         "nbinsx": 10,
         "offsetgroup": "Oceania",
         "orientation": "v",
         "showlegend": true,
         "type": "histogram",
         "uid": "5c6ae50f-7860-4774-9229-38a172d04b1c",
         "x": {
          "dtype": "float64",
          "shape": [
           18
          ],
          "value": {}
         },
         "xaxis": "x",
         "yaxis": "y"
        },
        {
         "alignmentgroup": "True",
         "bingroup": "x",
         "hovertemplate": "Continent=North America<br>Deaths/ 1M pop=%{x}<br>count=%{y}<extra></extra>",
         "legendgroup": "North America",
         "marker": {
          "color": "#FFA15A",
          "pattern": {
           "shape": ""
          }
         },
         "name": "North America",
         "nbinsx": 10,
         "offsetgroup": "North America",
         "orientation": "v",
         "showlegend": true,
         "type": "histogram",
         "uid": "f792c8fd-b110-45f7-b40e-64c93ab45a8f",
         "x": {
          "dtype": "float64",
          "shape": [
           30
          ],
          "value": {}
         },
         "xaxis": "x",
         "yaxis": "y"
        },
        {
         "alignmentgroup": "True",
         "bingroup": "x",
         "hovertemplate": "Continent=Africa<br>Deaths/ 1M pop=%{x}<br>count=%{y}<extra></extra>",
         "legendgroup": "Africa",
         "marker": {
          "color": "#19d3f3",
          "pattern": {
           "shape": ""
          }
         },
         "name": "Africa",
         "nbinsx": 10,
         "offsetgroup": "Africa",
         "orientation": "v",
         "showlegend": true,
         "type": "histogram",
         "uid": "a70a4151-56bb-4af1-ba6e-c31b59f22fee",
         "x": {
          "dtype": "float64",
          "shape": [
           54
          ],
          "value": {}
         },
         "xaxis": "x",
         "yaxis": "y"
        }
       ],
       "_js2py_layoutDelta": {},
       "_js2py_pointsCallback": {},
       "_js2py_relayout": {},
       "_js2py_restyle": {},
       "_js2py_traceDeltas": {},
       "_js2py_update": {},
       "_layout": {
        "barmode": "group",
        "legend": {
         "title": {
          "text": "Continent"
         },
         "tracegroupgap": 0
        },
        "template": {
         "data": {
          "bar": [
           {
            "error_x": {
             "color": "#2a3f5f"
            },
            "error_y": {
             "color": "#2a3f5f"
            },
            "marker": {
             "line": {
              "color": "#E5ECF6",
              "width": 0.5
             },
             "pattern": {
              "fillmode": "overlay",
              "size": 10,
              "solidity": 0.2
             }
            },
            "type": "bar"
           }
          ],
          "barpolar": [
           {
            "marker": {
             "line": {
              "color": "#E5ECF6",
              "width": 0.5
             },
             "pattern": {
              "fillmode": "overlay",
              "size": 10,
              "solidity": 0.2
             }
            },
            "type": "barpolar"
           }
          ],
          "carpet": [
           {
            "aaxis": {
             "endlinecolor": "#2a3f5f",
             "gridcolor": "white",
             "linecolor": "white",
             "minorgridcolor": "white",
             "startlinecolor": "#2a3f5f"
            },
            "baxis": {
             "endlinecolor": "#2a3f5f",
             "gridcolor": "white",
             "linecolor": "white",
             "minorgridcolor": "white",
             "startlinecolor": "#2a3f5f"
            },
            "type": "carpet"
           }
          ],
          "choropleth": [
           {
            "colorbar": {
             "outlinewidth": 0,
             "ticks": ""
            },
            "type": "choropleth"
           }
          ],
          "contour": [
           {
            "colorbar": {
             "outlinewidth": 0,
             "ticks": ""
            },
            "colorscale": [
             [
              0,
              "#0d0887"
             ],
             [
              0.1111111111111111,
              "#46039f"
             ],
             [
              0.2222222222222222,
              "#7201a8"
             ],
             [
              0.3333333333333333,
              "#9c179e"
             ],
             [
              0.4444444444444444,
              "#bd3786"
             ],
             [
              0.5555555555555556,
              "#d8576b"
             ],
             [
              0.6666666666666666,
              "#ed7953"
             ],
             [
              0.7777777777777778,
              "#fb9f3a"
             ],
             [
              0.8888888888888888,
              "#fdca26"
             ],
             [
              1,
              "#f0f921"
             ]
            ],
            "type": "contour"
           }
          ],
          "contourcarpet": [
           {
            "colorbar": {
             "outlinewidth": 0,
             "ticks": ""
            },
            "type": "contourcarpet"
           }
          ],
          "heatmap": [
           {
            "colorbar": {
             "outlinewidth": 0,
             "ticks": ""
            },
            "colorscale": [
             [
              0,
              "#0d0887"
             ],
             [
              0.1111111111111111,
              "#46039f"
             ],
             [
              0.2222222222222222,
              "#7201a8"
             ],
             [
              0.3333333333333333,
              "#9c179e"
             ],
             [
              0.4444444444444444,
              "#bd3786"
             ],
             [
              0.5555555555555556,
              "#d8576b"
             ],
             [
              0.6666666666666666,
              "#ed7953"
             ],
             [
              0.7777777777777778,
              "#fb9f3a"
             ],
             [
              0.8888888888888888,
              "#fdca26"
             ],
             [
              1,
              "#f0f921"
             ]
            ],
            "type": "heatmap"
           }
          ],
          "heatmapgl": [
           {
            "colorbar": {
             "outlinewidth": 0,
             "ticks": ""
            },
            "colorscale": [
             [
              0,
              "#0d0887"
             ],
             [
              0.1111111111111111,
              "#46039f"
             ],
             [
              0.2222222222222222,
              "#7201a8"
             ],
             [
              0.3333333333333333,
              "#9c179e"
             ],
             [
              0.4444444444444444,
              "#bd3786"
             ],
             [
              0.5555555555555556,
              "#d8576b"
             ],
             [
              0.6666666666666666,
              "#ed7953"
             ],
             [
              0.7777777777777778,
              "#fb9f3a"
             ],
             [
              0.8888888888888888,
              "#fdca26"
             ],
             [
              1,
              "#f0f921"
             ]
            ],
            "type": "heatmapgl"
           }
          ],
          "histogram": [
           {
            "marker": {
             "pattern": {
              "fillmode": "overlay",
              "size": 10,
              "solidity": 0.2
             }
            },
            "type": "histogram"
           }
          ],
          "histogram2d": [
           {
            "colorbar": {
             "outlinewidth": 0,
             "ticks": ""
            },
            "colorscale": [
             [
              0,
              "#0d0887"
             ],
             [
              0.1111111111111111,
              "#46039f"
             ],
             [
              0.2222222222222222,
              "#7201a8"
             ],
             [
              0.3333333333333333,
              "#9c179e"
             ],
             [
              0.4444444444444444,
              "#bd3786"
             ],
             [
              0.5555555555555556,
              "#d8576b"
             ],
             [
              0.6666666666666666,
              "#ed7953"
             ],
             [
              0.7777777777777778,
              "#fb9f3a"
             ],
             [
              0.8888888888888888,
              "#fdca26"
             ],
             [
              1,
              "#f0f921"
             ]
            ],
            "type": "histogram2d"
           }
          ],
          "histogram2dcontour": [
           {
            "colorbar": {
             "outlinewidth": 0,
             "ticks": ""
            },
            "colorscale": [
             [
              0,
              "#0d0887"
             ],
             [
              0.1111111111111111,
              "#46039f"
             ],
             [
              0.2222222222222222,
              "#7201a8"
             ],
             [
              0.3333333333333333,
              "#9c179e"
             ],
             [
              0.4444444444444444,
              "#bd3786"
             ],
             [
              0.5555555555555556,
              "#d8576b"
             ],
             [
              0.6666666666666666,
              "#ed7953"
             ],
             [
              0.7777777777777778,
              "#fb9f3a"
             ],
             [
              0.8888888888888888,
              "#fdca26"
             ],
             [
              1,
              "#f0f921"
             ]
            ],
            "type": "histogram2dcontour"
           }
          ],
          "mesh3d": [
           {
            "colorbar": {
             "outlinewidth": 0,
             "ticks": ""
            },
            "type": "mesh3d"
           }
          ],
          "parcoords": [
           {
            "line": {
             "colorbar": {
              "outlinewidth": 0,
              "ticks": ""
             }
            },
            "type": "parcoords"
           }
          ],
          "pie": [
           {
            "automargin": true,
            "type": "pie"
           }
          ],
          "scatter": [
           {
            "fillpattern": {
             "fillmode": "overlay",
             "size": 10,
             "solidity": 0.2
            },
            "type": "scatter"
           }
          ],
          "scatter3d": [
           {
            "line": {
             "colorbar": {
              "outlinewidth": 0,
              "ticks": ""
             }
            },
            "marker": {
             "colorbar": {
              "outlinewidth": 0,
              "ticks": ""
             }
            },
            "type": "scatter3d"
           }
          ],
          "scattercarpet": [
           {
            "marker": {
             "colorbar": {
              "outlinewidth": 0,
              "ticks": ""
             }
            },
            "type": "scattercarpet"
           }
          ],
          "scattergeo": [
           {
            "marker": {
             "colorbar": {
              "outlinewidth": 0,
              "ticks": ""
             }
            },
            "type": "scattergeo"
           }
          ],
          "scattergl": [
           {
            "marker": {
             "colorbar": {
              "outlinewidth": 0,
              "ticks": ""
             }
            },
            "type": "scattergl"
           }
          ],
          "scattermapbox": [
           {
            "marker": {
             "colorbar": {
              "outlinewidth": 0,
              "ticks": ""
             }
            },
            "type": "scattermapbox"
           }
          ],
          "scatterpolar": [
           {
            "marker": {
             "colorbar": {
              "outlinewidth": 0,
              "ticks": ""
             }
            },
            "type": "scatterpolar"
           }
          ],
          "scatterpolargl": [
           {
            "marker": {
             "colorbar": {
              "outlinewidth": 0,
              "ticks": ""
             }
            },
            "type": "scatterpolargl"
           }
          ],
          "scatterternary": [
           {
            "marker": {
             "colorbar": {
              "outlinewidth": 0,
              "ticks": ""
             }
            },
            "type": "scatterternary"
           }
          ],
          "surface": [
           {
            "colorbar": {
             "outlinewidth": 0,
             "ticks": ""
            },
            "colorscale": [
             [
              0,
              "#0d0887"
             ],
             [
              0.1111111111111111,
              "#46039f"
             ],
             [
              0.2222222222222222,
              "#7201a8"
             ],
             [
              0.3333333333333333,
              "#9c179e"
             ],
             [
              0.4444444444444444,
              "#bd3786"
             ],
             [
              0.5555555555555556,
              "#d8576b"
             ],
             [
              0.6666666666666666,
              "#ed7953"
             ],
             [
              0.7777777777777778,
              "#fb9f3a"
             ],
             [
              0.8888888888888888,
              "#fdca26"
             ],
             [
              1,
              "#f0f921"
             ]
            ],
            "type": "surface"
           }
          ],
          "table": [
           {
            "cells": {
             "fill": {
              "color": "#EBF0F8"
             },
             "line": {
              "color": "white"
             }
            },
            "header": {
             "fill": {
              "color": "#C8D4E3"
             },
             "line": {
              "color": "white"
             }
            },
            "type": "table"
           }
          ]
         },
         "layout": {
          "annotationdefaults": {
           "arrowcolor": "#2a3f5f",
           "arrowhead": 0,
           "arrowwidth": 1
          },
          "autotypenumbers": "strict",
          "coloraxis": {
           "colorbar": {
            "outlinewidth": 0,
            "ticks": ""
           }
          },
          "colorscale": {
           "diverging": [
            [
             0,
             "#8e0152"
            ],
            [
             0.1,
             "#c51b7d"
            ],
            [
             0.2,
             "#de77ae"
            ],
            [
             0.3,
             "#f1b6da"
            ],
            [
             0.4,
             "#fde0ef"
            ],
            [
             0.5,
             "#f7f7f7"
            ],
            [
             0.6,
             "#e6f5d0"
            ],
            [
             0.7,
             "#b8e186"
            ],
            [
             0.8,
             "#7fbc41"
            ],
            [
             0.9,
             "#4d9221"
            ],
            [
             1,
             "#276419"
            ]
           ],
           "sequential": [
            [
             0,
             "#0d0887"
            ],
            [
             0.1111111111111111,
             "#46039f"
            ],
            [
             0.2222222222222222,
             "#7201a8"
            ],
            [
             0.3333333333333333,
             "#9c179e"
            ],
            [
             0.4444444444444444,
             "#bd3786"
            ],
            [
             0.5555555555555556,
             "#d8576b"
            ],
            [
             0.6666666666666666,
             "#ed7953"
            ],
            [
             0.7777777777777778,
             "#fb9f3a"
            ],
            [
             0.8888888888888888,
             "#fdca26"
            ],
            [
             1,
             "#f0f921"
            ]
           ],
           "sequentialminus": [
            [
             0,
             "#0d0887"
            ],
            [
             0.1111111111111111,
             "#46039f"
            ],
            [
             0.2222222222222222,
             "#7201a8"
            ],
            [
             0.3333333333333333,
             "#9c179e"
            ],
            [
             0.4444444444444444,
             "#bd3786"
            ],
            [
             0.5555555555555556,
             "#d8576b"
            ],
            [
             0.6666666666666666,
             "#ed7953"
            ],
            [
             0.7777777777777778,
             "#fb9f3a"
            ],
            [
             0.8888888888888888,
             "#fdca26"
            ],
            [
             1,
             "#f0f921"
            ]
           ]
          },
          "colorway": [
           "#636efa",
           "#EF553B",
           "#00cc96",
           "#ab63fa",
           "#FFA15A",
           "#19d3f3",
           "#FF6692",
           "#B6E880",
           "#FF97FF",
           "#FECB52"
          ],
          "font": {
           "color": "#2a3f5f"
          },
          "geo": {
           "bgcolor": "white",
           "lakecolor": "white",
           "landcolor": "#E5ECF6",
           "showlakes": true,
           "showland": true,
           "subunitcolor": "white"
          },
          "hoverlabel": {
           "align": "left"
          },
          "hovermode": "closest",
          "mapbox": {
           "style": "light"
          },
          "paper_bgcolor": "white",
          "plot_bgcolor": "#E5ECF6",
          "polar": {
           "angularaxis": {
            "gridcolor": "white",
            "linecolor": "white",
            "ticks": ""
           },
           "bgcolor": "#E5ECF6",
           "radialaxis": {
            "gridcolor": "white",
            "linecolor": "white",
            "ticks": ""
           }
          },
          "scene": {
           "xaxis": {
            "backgroundcolor": "#E5ECF6",
            "gridcolor": "white",
            "gridwidth": 2,
            "linecolor": "white",
            "showbackground": true,
            "ticks": "",
            "zerolinecolor": "white"
           },
           "yaxis": {
            "backgroundcolor": "#E5ECF6",
            "gridcolor": "white",
            "gridwidth": 2,
            "linecolor": "white",
            "showbackground": true,
            "ticks": "",
            "zerolinecolor": "white"
           },
           "zaxis": {
            "backgroundcolor": "#E5ECF6",
            "gridcolor": "white",
            "gridwidth": 2,
            "linecolor": "white",
            "showbackground": true,
            "ticks": "",
            "zerolinecolor": "white"
           }
          },
          "shapedefaults": {
           "line": {
            "color": "#2a3f5f"
           }
          },
          "ternary": {
           "aaxis": {
            "gridcolor": "white",
            "linecolor": "white",
            "ticks": ""
           },
           "baxis": {
            "gridcolor": "white",
            "linecolor": "white",
            "ticks": ""
           },
           "bgcolor": "#E5ECF6",
           "caxis": {
            "gridcolor": "white",
            "linecolor": "white",
            "ticks": ""
           }
          },
          "title": {
           "x": 0.05
          },
          "xaxis": {
           "automargin": true,
           "gridcolor": "white",
           "linecolor": "white",
           "ticks": "",
           "title": {
            "standoff": 15
           },
           "zerolinecolor": "white",
           "zerolinewidth": 2
          },
          "yaxis": {
           "automargin": true,
           "gridcolor": "white",
           "linecolor": "white",
           "ticks": "",
           "title": {
            "standoff": 15
           },
           "zerolinecolor": "white",
           "zerolinewidth": 2
          }
         }
        },
        "title": {
         "text": "Deaths/ 1M pop"
        },
        "xaxis": {
         "anchor": "y",
         "domain": [
          0,
          1
         ],
         "title": {
          "text": "Deaths/ 1M pop"
         }
        },
        "yaxis": {
         "anchor": "x",
         "domain": [
          0,
          1
         ],
         "title": {
          "text": "count"
         }
        }
       },
       "_py2js_addTraces": {},
       "_py2js_animate": {},
       "_py2js_deleteTraces": {},
       "_py2js_moveTraces": {},
       "_py2js_relayout": {},
       "_py2js_removeLayoutProps": {},
       "_py2js_removeTraceProps": {},
       "_py2js_restyle": {},
       "_py2js_update": {},
       "_view_count": 1
      }
     },
     "2a857c44eae64e1eb2c850007d503353": {
      "model_module": "@jupyter-widgets/base",
      "model_module_version": "2.0.0",
      "model_name": "LayoutModel",
      "state": {}
     },
     "539ec8cf4d2a47f38a1ce1ee08e614f1": {
      "buffers": [
       {
        "data": "AAAAAACAd0AAAAAAAEiBQAAAAAAAQHZAAAAAAAB4kkAAAAAAAEB7QAAAAAAAPJpAAAAAAACwgUAAAAAAANB8QAAAAAAAIJFAAAAAAAAACEAAAAAAAEB9QAAAAAAAmJNAAAAAAAB4gUAAAAAAAMiCQAAAAAAA4GVAAAAAAAAAcUAAAAAAAKKwQAAAAAAA3JRAAAAAAABslUAAAAAAAKBgQAAAAAAASIZAAAAAAAD0mEAAAAAAACBtQAAAAAAA4HhAAAAAAAAohEAAAAAAABCOQAAAAAAAUHBAAAAAAACgikAAAAAAAEiIQAAAAAAASIJAAAAAAAAAdkAAAAAAACiOQAAAAAAAoGxAAAAAAADUpkAAAAAAAACJQAAAAAAAABBAAAAAAAAASEAAAAAAAJB/QAAAAAAAQFlAAAAAAADQe0AAAAAAAOBnQAAAAAAAyIFAAAAAAABAZkAAAAAAAAA7QAAAAAAAYGRAAAAAAAAAKkAAAAAAAEBRQA==",
        "encoding": "base64",
        "path": [
         "_data",
         0,
         "x",
         "value"
        ]
       },
       {
        "data": "AAAAAAB6okAAAAAAAPCbQAAAAAAAqqVAAAAAAAD0pkAAAAAAAL6kQAAAAAAAFKNAAAAAAACQlEAAAAAAAFSoQAAAAAAASKNAAAAAAADAo0AAAAAAAN6hQAAAAAAAEqlAAAAAAADepUAAAAAAAESZQAAAAAAAgqtAAAAAAADskkAAAAAAAOCeQAAAAAAAtJ5AAAAAAABRs0AAAAAAAEStQAAAAAAAnJhAAAAAAABAh0AAAAAAANSQQAAAAAAAhrVAAAAAAABcq0AAAAAAAESwQAAAAAAApKlAAAAAAACYh0AAAAAAAFCpQAAAAAAAsJ9AAAAAAAAOp0AAAAAAAGazQAAAAAAAkJNAAAAAAABQm0AAAAAAAEiDQAAAAAAAXJxAAAAAAABEn0AAAAAAACSVQAAAAAAAyIFAAAAAAAAMq0AAAAAAAAipQAAAAAAAgKFAAAAAAADAmEA=",
        "encoding": "base64",
        "path": [
         "_data",
         1,
         "x",
         "value"
        ]
       },
       {
        "data": "AAAAAADkqEAAAAAAAA6mQAAAAAAAgqVAAAAAAADQqEAAAAAAAB25QAAAAAAA+JxAAAAAAAD4nkAAAAAAALqgQAAAAAAA8KRAAAAAAADgaEAAAAAAAGSUQAAAAAAAIqJAAAAAAAA0mUA=",
        "encoding": "base64",
        "path": [
         "_data",
         2,
         "x",
         "value"
        ]
       },
       {
        "data": "AAAAAAD4gUAAAAAAAOCCQAAAAAAA2KFAAAAAAADckEAAAAAAACiOQAAAAAAAAFJAAAAAAACAakAAAAAAAMBbQAAAAAAA4GFAAAAAAACwcUAAAAAAAABGQAAAAAAA4G5AAAAAAACATEAAAAAAAJB0QAAAAAAAAFdAAAAAAABAWkAAAAAAAOiDQAAAAAAAAPh/",
        "encoding": "base64",
        "path": [
         "_data",
         3,
         "x",
         "value"
        ]
       },
       {
        "data": "AAAAAACao0AAAAAAAFCSQAAAAAAApJBAAAAAAACQh0AAAAAAAOCaQAAAAAAA3J1AAAAAAADQeEAAAAAAANCQQAAAAAAAzqVAAAAAAAAwhEAAAAAAAFSjQAAAAAAATKdAAAAAAABckUAAAAAAAFSeQAAAAAAA5JlAAAAAAAB6oEAAAAAAAECgQAAAAAAAQFJAAAAAAADAfUAAAAAAAICgQAAAAAAAUqBAAAAAAACAQEAAAAAAAKqiQAAAAAAA+I9AAAAAAAAQd0AAAAAAAOyWQAAAAAAAsIpAAAAAAACgiEAAAAAAAMBlQAAAAAAALJlA",
        "encoding": "base64",
        "path": [
         "_data",
         4,
         "x",
         "value"
        ]
       },
       {
        "data": "AAAAAABImkAAAAAAAPB6QAAAAAAA+KJAAAAAAAAAbUAAAAAAAJCMQAAAAAAAgE9AAAAAAAC4jkAAAAAAAEBZQAAAAAAAwGlAAAAAAADYkUAAAAAAAABjQAAAAAAAAC5AAAAAAADQdkAAAAAAAMBQQAAAAAAAwFJAAAAAAAAcmEAAAAAAAIBGQAAAAAAAAFtAAAAAAABAUUAAAAAAAIBLQAAAAAAAAC5AAAAAAADAUEAAAAAAAMBbQAAAAAAAoGBAAAAAAAAASEAAAAAAAABbQAAAAAAAYGlAAAAAAAAACEAAAAAAAGBgQAAAAAAAkJpAAAAAAAAYiUAAAAAAAGiEQAAAAAAAACpAAAAAAACAQEAAAAAAAABAQAAAAAAAQHRAAAAAAACAQUAAAAAAAAAqQAAAAAAAAFRAAAAAAAAAMkAAAAAAAIBeQAAAAAAAQGdAAAAAAAAAN0AAAAAAACBiQAAAAAAAADxAAAAAAAAAKEAAAAAAAEBVQAAAAAAAIGZAAAAAAACAS0AAAAAAAAAuQAAAAAAAACZAAAAAAAAgdUAAAAAAAAD4fwAAAAAAAABA",
        "encoding": "base64",
        "path": [
         "_data",
         5,
         "x",
         "value"
        ]
       }
      ],
      "model_module": "jupyterlab-plotly",
      "model_module_version": "^5.10.0",
      "model_name": "FigureModel",
      "state": {
       "_config": {
        "plotlyServerURL": "https://plot.ly"
       },
       "_data": [
        {
         "alignmentgroup": "True",
         "bingroup": "x",
         "hovertemplate": "Continent=Asia<br>Deaths/ 1M pop=%{x}<br>count=%{y}<extra></extra>",
         "legendgroup": "Asia",
         "marker": {
          "color": "#636efa",
          "pattern": {
           "shape": ""
          }
         },
         "name": "Asia",
         "nbinsx": 10,
         "offsetgroup": "Asia",
         "orientation": "v",
         "showlegend": true,
         "type": "histogram",
         "uid": "4597b5a1-2c4d-4316-826f-8ab9b415d10b",
         "x": {
          "dtype": "float64",
          "shape": [
           47
          ],
          "value": {}
         },
         "xaxis": "x",
         "yaxis": "y"
        },
        {
         "alignmentgroup": "True",
         "bingroup": "x",
         "hovertemplate": "Continent=Europe<br>Deaths/ 1M pop=%{x}<br>count=%{y}<extra></extra>",
         "legendgroup": "Europe",
         "marker": {
          "color": "#EF553B",
          "pattern": {
           "shape": ""
          }
         },
         "name": "Europe",
         "nbinsx": 10,
         "offsetgroup": "Europe",
         "orientation": "v",
         "showlegend": true,
         "type": "histogram",
         "uid": "02b1099a-3647-4f8b-a7e4-4393f9a81d07",
         "x": {
          "dtype": "float64",
          "shape": [
           43
          ],
          "value": {}
         },
         "xaxis": "x",
         "yaxis": "y"
        },
        {
         "alignmentgroup": "True",
         "bingroup": "x",
         "hovertemplate": "Continent=South America<br>Deaths/ 1M pop=%{x}<br>count=%{y}<extra></extra>",
         "legendgroup": "South America",
         "marker": {
          "color": "#00cc96",
          "pattern": {
           "shape": ""
          }
         },
         "name": "South America",
         "nbinsx": 10,
         "offsetgroup": "South America",
         "orientation": "v",
         "showlegend": true,
         "type": "histogram",
         "uid": "9a68c7b1-098d-4e45-b768-55d8ef35da0a",
         "x": {
          "dtype": "float64",
          "shape": [
           13
          ],
          "value": {}
         },
         "xaxis": "x",
         "yaxis": "y"
        },
        {
         "alignmentgroup": "True",
         "bingroup": "x",
         "hovertemplate": "Continent=Oceania<br>Deaths/ 1M pop=%{x}<br>count=%{y}<extra></extra>",
         "legendgroup": "Oceania",
         "marker": {
          "color": "#ab63fa",
          "pattern": {
           "shape": ""
          }
         },
         "name": "Oceania",
         "nbinsx": 10,
         "offsetgroup": "Oceania",
         "orientation": "v",
         "showlegend": true,
         "type": "histogram",
         "uid": "04432b04-d6de-42ee-8587-38b3ba042406",
         "x": {
          "dtype": "float64",
          "shape": [
           18
          ],
          "value": {}
         },
         "xaxis": "x",
         "yaxis": "y"
        },
        {
         "alignmentgroup": "True",
         "bingroup": "x",
         "hovertemplate": "Continent=North America<br>Deaths/ 1M pop=%{x}<br>count=%{y}<extra></extra>",
         "legendgroup": "North America",
         "marker": {
          "color": "#FFA15A",
          "pattern": {
           "shape": ""
          }
         },
         "name": "North America",
         "nbinsx": 10,
         "offsetgroup": "North America",
         "orientation": "v",
         "showlegend": true,
         "type": "histogram",
         "uid": "29c17a5e-49b7-4e4a-b7d1-ffcf71e925cb",
         "x": {
          "dtype": "float64",
          "shape": [
           30
          ],
          "value": {}
         },
         "xaxis": "x",
         "yaxis": "y"
        },
        {
         "alignmentgroup": "True",
         "bingroup": "x",
         "hovertemplate": "Continent=Africa<br>Deaths/ 1M pop=%{x}<br>count=%{y}<extra></extra>",
         "legendgroup": "Africa",
         "marker": {
          "color": "#19d3f3",
          "pattern": {
           "shape": ""
          }
         },
         "name": "Africa",
         "nbinsx": 10,
         "offsetgroup": "Africa",
         "orientation": "v",
         "showlegend": true,
         "type": "histogram",
         "uid": "77a3e425-2075-4285-8433-e54cdd9fdf72",
         "x": {
          "dtype": "float64",
          "shape": [
           54
          ],
          "value": {}
         },
         "xaxis": "x",
         "yaxis": "y"
        }
       ],
       "_js2py_layoutDelta": {},
       "_js2py_pointsCallback": {},
       "_js2py_relayout": {},
       "_js2py_restyle": {},
       "_js2py_traceDeltas": {},
       "_js2py_update": {},
       "_layout": {
        "barmode": "group",
        "legend": {
         "title": {
          "text": "Continent"
         },
         "tracegroupgap": 0
        },
        "template": {
         "data": {
          "bar": [
           {
            "error_x": {
             "color": "#2a3f5f"
            },
            "error_y": {
             "color": "#2a3f5f"
            },
            "marker": {
             "line": {
              "color": "#E5ECF6",
              "width": 0.5
             },
             "pattern": {
              "fillmode": "overlay",
              "size": 10,
              "solidity": 0.2
             }
            },
            "type": "bar"
           }
          ],
          "barpolar": [
           {
            "marker": {
             "line": {
              "color": "#E5ECF6",
              "width": 0.5
             },
             "pattern": {
              "fillmode": "overlay",
              "size": 10,
              "solidity": 0.2
             }
            },
            "type": "barpolar"
           }
          ],
          "carpet": [
           {
            "aaxis": {
             "endlinecolor": "#2a3f5f",
             "gridcolor": "white",
             "linecolor": "white",
             "minorgridcolor": "white",
             "startlinecolor": "#2a3f5f"
            },
            "baxis": {
             "endlinecolor": "#2a3f5f",
             "gridcolor": "white",
             "linecolor": "white",
             "minorgridcolor": "white",
             "startlinecolor": "#2a3f5f"
            },
            "type": "carpet"
           }
          ],
          "choropleth": [
           {
            "colorbar": {
             "outlinewidth": 0,
             "ticks": ""
            },
            "type": "choropleth"
           }
          ],
          "contour": [
           {
            "colorbar": {
             "outlinewidth": 0,
             "ticks": ""
            },
            "colorscale": [
             [
              0,
              "#0d0887"
             ],
             [
              0.1111111111111111,
              "#46039f"
             ],
             [
              0.2222222222222222,
              "#7201a8"
             ],
             [
              0.3333333333333333,
              "#9c179e"
             ],
             [
              0.4444444444444444,
              "#bd3786"
             ],
             [
              0.5555555555555556,
              "#d8576b"
             ],
             [
              0.6666666666666666,
              "#ed7953"
             ],
             [
              0.7777777777777778,
              "#fb9f3a"
             ],
             [
              0.8888888888888888,
              "#fdca26"
             ],
             [
              1,
              "#f0f921"
             ]
            ],
            "type": "contour"
           }
          ],
          "contourcarpet": [
           {
            "colorbar": {
             "outlinewidth": 0,
             "ticks": ""
            },
            "type": "contourcarpet"
           }
          ],
          "heatmap": [
           {
            "colorbar": {
             "outlinewidth": 0,
             "ticks": ""
            },
            "colorscale": [
             [
              0,
              "#0d0887"
             ],
             [
              0.1111111111111111,
              "#46039f"
             ],
             [
              0.2222222222222222,
              "#7201a8"
             ],
             [
              0.3333333333333333,
              "#9c179e"
             ],
             [
              0.4444444444444444,
              "#bd3786"
             ],
             [
              0.5555555555555556,
              "#d8576b"
             ],
             [
              0.6666666666666666,
              "#ed7953"
             ],
             [
              0.7777777777777778,
              "#fb9f3a"
             ],
             [
              0.8888888888888888,
              "#fdca26"
             ],
             [
              1,
              "#f0f921"
             ]
            ],
            "type": "heatmap"
           }
          ],
          "heatmapgl": [
           {
            "colorbar": {
             "outlinewidth": 0,
             "ticks": ""
            },
            "colorscale": [
             [
              0,
              "#0d0887"
             ],
             [
              0.1111111111111111,
              "#46039f"
             ],
             [
              0.2222222222222222,
              "#7201a8"
             ],
             [
              0.3333333333333333,
              "#9c179e"
             ],
             [
              0.4444444444444444,
              "#bd3786"
             ],
             [
              0.5555555555555556,
              "#d8576b"
             ],
             [
              0.6666666666666666,
              "#ed7953"
             ],
             [
              0.7777777777777778,
              "#fb9f3a"
             ],
             [
              0.8888888888888888,
              "#fdca26"
             ],
             [
              1,
              "#f0f921"
             ]
            ],
            "type": "heatmapgl"
           }
          ],
          "histogram": [
           {
            "marker": {
             "pattern": {
              "fillmode": "overlay",
              "size": 10,
              "solidity": 0.2
             }
            },
            "type": "histogram"
           }
          ],
          "histogram2d": [
           {
            "colorbar": {
             "outlinewidth": 0,
             "ticks": ""
            },
            "colorscale": [
             [
              0,
              "#0d0887"
             ],
             [
              0.1111111111111111,
              "#46039f"
             ],
             [
              0.2222222222222222,
              "#7201a8"
             ],
             [
              0.3333333333333333,
              "#9c179e"
             ],
             [
              0.4444444444444444,
              "#bd3786"
             ],
             [
              0.5555555555555556,
              "#d8576b"
             ],
             [
              0.6666666666666666,
              "#ed7953"
             ],
             [
              0.7777777777777778,
              "#fb9f3a"
             ],
             [
              0.8888888888888888,
              "#fdca26"
             ],
             [
              1,
              "#f0f921"
             ]
            ],
            "type": "histogram2d"
           }
          ],
          "histogram2dcontour": [
           {
            "colorbar": {
             "outlinewidth": 0,
             "ticks": ""
            },
            "colorscale": [
             [
              0,
              "#0d0887"
             ],
             [
              0.1111111111111111,
              "#46039f"
             ],
             [
              0.2222222222222222,
              "#7201a8"
             ],
             [
              0.3333333333333333,
              "#9c179e"
             ],
             [
              0.4444444444444444,
              "#bd3786"
             ],
             [
              0.5555555555555556,
              "#d8576b"
             ],
             [
              0.6666666666666666,
              "#ed7953"
             ],
             [
              0.7777777777777778,
              "#fb9f3a"
             ],
             [
              0.8888888888888888,
              "#fdca26"
             ],
             [
              1,
              "#f0f921"
             ]
            ],
            "type": "histogram2dcontour"
           }
          ],
          "mesh3d": [
           {
            "colorbar": {
             "outlinewidth": 0,
             "ticks": ""
            },
            "type": "mesh3d"
           }
          ],
          "parcoords": [
           {
            "line": {
             "colorbar": {
              "outlinewidth": 0,
              "ticks": ""
             }
            },
            "type": "parcoords"
           }
          ],
          "pie": [
           {
            "automargin": true,
            "type": "pie"
           }
          ],
          "scatter": [
           {
            "fillpattern": {
             "fillmode": "overlay",
             "size": 10,
             "solidity": 0.2
            },
            "type": "scatter"
           }
          ],
          "scatter3d": [
           {
            "line": {
             "colorbar": {
              "outlinewidth": 0,
              "ticks": ""
             }
            },
            "marker": {
             "colorbar": {
              "outlinewidth": 0,
              "ticks": ""
             }
            },
            "type": "scatter3d"
           }
          ],
          "scattercarpet": [
           {
            "marker": {
             "colorbar": {
              "outlinewidth": 0,
              "ticks": ""
             }
            },
            "type": "scattercarpet"
           }
          ],
          "scattergeo": [
           {
            "marker": {
             "colorbar": {
              "outlinewidth": 0,
              "ticks": ""
             }
            },
            "type": "scattergeo"
           }
          ],
          "scattergl": [
           {
            "marker": {
             "colorbar": {
              "outlinewidth": 0,
              "ticks": ""
             }
            },
            "type": "scattergl"
           }
          ],
          "scattermapbox": [
           {
            "marker": {
             "colorbar": {
              "outlinewidth": 0,
              "ticks": ""
             }
            },
            "type": "scattermapbox"
           }
          ],
          "scatterpolar": [
           {
            "marker": {
             "colorbar": {
              "outlinewidth": 0,
              "ticks": ""
             }
            },
            "type": "scatterpolar"
           }
          ],
          "scatterpolargl": [
           {
            "marker": {
             "colorbar": {
              "outlinewidth": 0,
              "ticks": ""
             }
            },
            "type": "scatterpolargl"
           }
          ],
          "scatterternary": [
           {
            "marker": {
             "colorbar": {
              "outlinewidth": 0,
              "ticks": ""
             }
            },
            "type": "scatterternary"
           }
          ],
          "surface": [
           {
            "colorbar": {
             "outlinewidth": 0,
             "ticks": ""
            },
            "colorscale": [
             [
              0,
              "#0d0887"
             ],
             [
              0.1111111111111111,
              "#46039f"
             ],
             [
              0.2222222222222222,
              "#7201a8"
             ],
             [
              0.3333333333333333,
              "#9c179e"
             ],
             [
              0.4444444444444444,
              "#bd3786"
             ],
             [
              0.5555555555555556,
              "#d8576b"
             ],
             [
              0.6666666666666666,
              "#ed7953"
             ],
             [
              0.7777777777777778,
              "#fb9f3a"
             ],
             [
              0.8888888888888888,
              "#fdca26"
             ],
             [
              1,
              "#f0f921"
             ]
            ],
            "type": "surface"
           }
          ],
          "table": [
           {
            "cells": {
             "fill": {
              "color": "#EBF0F8"
             },
             "line": {
              "color": "white"
             }
            },
            "header": {
             "fill": {
              "color": "#C8D4E3"
             },
             "line": {
              "color": "white"
             }
            },
            "type": "table"
           }
          ]
         },
         "layout": {
          "annotationdefaults": {
           "arrowcolor": "#2a3f5f",
           "arrowhead": 0,
           "arrowwidth": 1
          },
          "autotypenumbers": "strict",
          "coloraxis": {
           "colorbar": {
            "outlinewidth": 0,
            "ticks": ""
           }
          },
          "colorscale": {
           "diverging": [
            [
             0,
             "#8e0152"
            ],
            [
             0.1,
             "#c51b7d"
            ],
            [
             0.2,
             "#de77ae"
            ],
            [
             0.3,
             "#f1b6da"
            ],
            [
             0.4,
             "#fde0ef"
            ],
            [
             0.5,
             "#f7f7f7"
            ],
            [
             0.6,
             "#e6f5d0"
            ],
            [
             0.7,
             "#b8e186"
            ],
            [
             0.8,
             "#7fbc41"
            ],
            [
             0.9,
             "#4d9221"
            ],
            [
             1,
             "#276419"
            ]
           ],
           "sequential": [
            [
             0,
             "#0d0887"
            ],
            [
             0.1111111111111111,
             "#46039f"
            ],
            [
             0.2222222222222222,
             "#7201a8"
            ],
            [
             0.3333333333333333,
             "#9c179e"
            ],
            [
             0.4444444444444444,
             "#bd3786"
            ],
            [
             0.5555555555555556,
             "#d8576b"
            ],
            [
             0.6666666666666666,
             "#ed7953"
            ],
            [
             0.7777777777777778,
             "#fb9f3a"
            ],
            [
             0.8888888888888888,
             "#fdca26"
            ],
            [
             1,
             "#f0f921"
            ]
           ],
           "sequentialminus": [
            [
             0,
             "#0d0887"
            ],
            [
             0.1111111111111111,
             "#46039f"
            ],
            [
             0.2222222222222222,
             "#7201a8"
            ],
            [
             0.3333333333333333,
             "#9c179e"
            ],
            [
             0.4444444444444444,
             "#bd3786"
            ],
            [
             0.5555555555555556,
             "#d8576b"
            ],
            [
             0.6666666666666666,
             "#ed7953"
            ],
            [
             0.7777777777777778,
             "#fb9f3a"
            ],
            [
             0.8888888888888888,
             "#fdca26"
            ],
            [
             1,
             "#f0f921"
            ]
           ]
          },
          "colorway": [
           "#636efa",
           "#EF553B",
           "#00cc96",
           "#ab63fa",
           "#FFA15A",
           "#19d3f3",
           "#FF6692",
           "#B6E880",
           "#FF97FF",
           "#FECB52"
          ],
          "font": {
           "color": "#2a3f5f"
          },
          "geo": {
           "bgcolor": "white",
           "lakecolor": "white",
           "landcolor": "#E5ECF6",
           "showlakes": true,
           "showland": true,
           "subunitcolor": "white"
          },
          "hoverlabel": {
           "align": "left"
          },
          "hovermode": "closest",
          "mapbox": {
           "style": "light"
          },
          "paper_bgcolor": "white",
          "plot_bgcolor": "#E5ECF6",
          "polar": {
           "angularaxis": {
            "gridcolor": "white",
            "linecolor": "white",
            "ticks": ""
           },
           "bgcolor": "#E5ECF6",
           "radialaxis": {
            "gridcolor": "white",
            "linecolor": "white",
            "ticks": ""
           }
          },
          "scene": {
           "xaxis": {
            "backgroundcolor": "#E5ECF6",
            "gridcolor": "white",
            "gridwidth": 2,
            "linecolor": "white",
            "showbackground": true,
            "ticks": "",
            "zerolinecolor": "white"
           },
           "yaxis": {
            "backgroundcolor": "#E5ECF6",
            "gridcolor": "white",
            "gridwidth": 2,
            "linecolor": "white",
            "showbackground": true,
            "ticks": "",
            "zerolinecolor": "white"
           },
           "zaxis": {
            "backgroundcolor": "#E5ECF6",
            "gridcolor": "white",
            "gridwidth": 2,
            "linecolor": "white",
            "showbackground": true,
            "ticks": "",
            "zerolinecolor": "white"
           }
          },
          "shapedefaults": {
           "line": {
            "color": "#2a3f5f"
           }
          },
          "ternary": {
           "aaxis": {
            "gridcolor": "white",
            "linecolor": "white",
            "ticks": ""
           },
           "baxis": {
            "gridcolor": "white",
            "linecolor": "white",
            "ticks": ""
           },
           "bgcolor": "#E5ECF6",
           "caxis": {
            "gridcolor": "white",
            "linecolor": "white",
            "ticks": ""
           }
          },
          "title": {
           "x": 0.05
          },
          "xaxis": {
           "automargin": true,
           "gridcolor": "white",
           "linecolor": "white",
           "ticks": "",
           "title": {
            "standoff": 15
           },
           "zerolinecolor": "white",
           "zerolinewidth": 2
          },
          "yaxis": {
           "automargin": true,
           "gridcolor": "white",
           "linecolor": "white",
           "ticks": "",
           "title": {
            "standoff": 15
           },
           "zerolinecolor": "white",
           "zerolinewidth": 2
          }
         }
        },
        "title": {
         "text": "Deaths/ 1M pop"
        },
        "xaxis": {
         "anchor": "y",
         "domain": [
          0,
          1
         ],
         "title": {
          "text": "Deaths/ 1M pop"
         }
        },
        "yaxis": {
         "anchor": "x",
         "domain": [
          0,
          1
         ],
         "title": {
          "text": "count"
         }
        }
       },
       "_py2js_addTraces": {},
       "_py2js_animate": {},
       "_py2js_deleteTraces": {},
       "_py2js_moveTraces": {},
       "_py2js_relayout": {},
       "_py2js_removeLayoutProps": {},
       "_py2js_removeTraceProps": {},
       "_py2js_restyle": {},
       "_py2js_update": {},
       "_view_count": 0
      }
     },
     "5782491fae314020a9f61b2ec9acfde8": {
      "model_module": "@jupyter-widgets/base",
      "model_module_version": "2.0.0",
      "model_name": "LayoutModel",
      "state": {}
     },
     "a03d3d066bd3488e9dfb262b8bf6c619": {
      "buffers": [
       {
        "data": "AAAAAACAd0AAAAAAAEiBQAAAAAAAQHZAAAAAAAB4kkAAAAAAAEB7QAAAAAAAPJpAAAAAAACwgUAAAAAAANB8QAAAAAAAIJFAAAAAAAAACEAAAAAAAEB9QAAAAAAAmJNAAAAAAAB4gUAAAAAAAMiCQAAAAAAA4GVAAAAAAAAAcUAAAAAAAKKwQAAAAAAA3JRAAAAAAABslUAAAAAAAKBgQAAAAAAASIZAAAAAAAD0mEAAAAAAACBtQAAAAAAA4HhAAAAAAAAohEAAAAAAABCOQAAAAAAAUHBAAAAAAACgikAAAAAAAEiIQAAAAAAASIJAAAAAAAAAdkAAAAAAACiOQAAAAAAAoGxAAAAAAADUpkAAAAAAAACJQAAAAAAAABBAAAAAAAAASEAAAAAAAJB/QAAAAAAAQFlAAAAAAADQe0AAAAAAAOBnQAAAAAAAyIFAAAAAAABAZkAAAAAAAAA7QAAAAAAAYGRAAAAAAAAAKkAAAAAAAEBRQA==",
        "encoding": "base64",
        "path": [
         "_data",
         0,
         "x",
         "value"
        ]
       },
       {
        "data": "AAAAAAB6okAAAAAAAPCbQAAAAAAAqqVAAAAAAAD0pkAAAAAAAL6kQAAAAAAAFKNAAAAAAACQlEAAAAAAAFSoQAAAAAAASKNAAAAAAADAo0AAAAAAAN6hQAAAAAAAEqlAAAAAAADepUAAAAAAAESZQAAAAAAAgqtAAAAAAADskkAAAAAAAOCeQAAAAAAAtJ5AAAAAAABRs0AAAAAAAEStQAAAAAAAnJhAAAAAAABAh0AAAAAAANSQQAAAAAAAhrVAAAAAAABcq0AAAAAAAESwQAAAAAAApKlAAAAAAACYh0AAAAAAAFCpQAAAAAAAsJ9AAAAAAAAOp0AAAAAAAGazQAAAAAAAkJNAAAAAAABQm0AAAAAAAEiDQAAAAAAAXJxAAAAAAABEn0AAAAAAACSVQAAAAAAAyIFAAAAAAAAMq0AAAAAAAAipQAAAAAAAgKFAAAAAAADAmEA=",
        "encoding": "base64",
        "path": [
         "_data",
         1,
         "x",
         "value"
        ]
       },
       {
        "data": "AAAAAADkqEAAAAAAAA6mQAAAAAAAgqVAAAAAAADQqEAAAAAAAB25QAAAAAAA+JxAAAAAAAD4nkAAAAAAALqgQAAAAAAA8KRAAAAAAADgaEAAAAAAAGSUQAAAAAAAIqJAAAAAAAA0mUA=",
        "encoding": "base64",
        "path": [
         "_data",
         2,
         "x",
         "value"
        ]
       },
       {
        "data": "AAAAAAD4gUAAAAAAAOCCQAAAAAAA2KFAAAAAAADckEAAAAAAACiOQAAAAAAAAFJAAAAAAACAakAAAAAAAMBbQAAAAAAA4GFAAAAAAACwcUAAAAAAAABGQAAAAAAA4G5AAAAAAACATEAAAAAAAJB0QAAAAAAAAFdAAAAAAABAWkAAAAAAAOiDQAAAAAAAAPh/",
        "encoding": "base64",
        "path": [
         "_data",
         3,
         "x",
         "value"
        ]
       },
       {
        "data": "AAAAAACao0AAAAAAAFCSQAAAAAAApJBAAAAAAACQh0AAAAAAAOCaQAAAAAAA3J1AAAAAAADQeEAAAAAAANCQQAAAAAAAzqVAAAAAAAAwhEAAAAAAAFSjQAAAAAAATKdAAAAAAABckUAAAAAAAFSeQAAAAAAA5JlAAAAAAAB6oEAAAAAAAECgQAAAAAAAQFJAAAAAAADAfUAAAAAAAICgQAAAAAAAUqBAAAAAAACAQEAAAAAAAKqiQAAAAAAA+I9AAAAAAAAQd0AAAAAAAOyWQAAAAAAAsIpAAAAAAACgiEAAAAAAAMBlQAAAAAAALJlA",
        "encoding": "base64",
        "path": [
         "_data",
         4,
         "x",
         "value"
        ]
       },
       {
        "data": "AAAAAABImkAAAAAAAPB6QAAAAAAA+KJAAAAAAAAAbUAAAAAAAJCMQAAAAAAAgE9AAAAAAAC4jkAAAAAAAEBZQAAAAAAAwGlAAAAAAADYkUAAAAAAAABjQAAAAAAAAC5AAAAAAADQdkAAAAAAAMBQQAAAAAAAwFJAAAAAAAAcmEAAAAAAAIBGQAAAAAAAAFtAAAAAAABAUUAAAAAAAIBLQAAAAAAAAC5AAAAAAADAUEAAAAAAAMBbQAAAAAAAoGBAAAAAAAAASEAAAAAAAABbQAAAAAAAYGlAAAAAAAAACEAAAAAAAGBgQAAAAAAAkJpAAAAAAAAYiUAAAAAAAGiEQAAAAAAAACpAAAAAAACAQEAAAAAAAABAQAAAAAAAQHRAAAAAAACAQUAAAAAAAAAqQAAAAAAAAFRAAAAAAAAAMkAAAAAAAIBeQAAAAAAAQGdAAAAAAAAAN0AAAAAAACBiQAAAAAAAADxAAAAAAAAAKEAAAAAAAEBVQAAAAAAAIGZAAAAAAACAS0AAAAAAAAAuQAAAAAAAACZAAAAAAAAgdUAAAAAAAAD4fwAAAAAAAABA",
        "encoding": "base64",
        "path": [
         "_data",
         5,
         "x",
         "value"
        ]
       }
      ],
      "model_module": "jupyterlab-plotly",
      "model_module_version": "^5.10.0",
      "model_name": "FigureModel",
      "state": {
       "_config": {
        "plotlyServerURL": "https://plot.ly"
       },
       "_data": [
        {
         "alignmentgroup": "True",
         "bingroup": "x",
         "hovertemplate": "Continent=Asia<br>Deaths/ 1M pop=%{x}<br>count=%{y}<extra></extra>",
         "legendgroup": "Asia",
         "marker": {
          "color": "#636efa",
          "pattern": {
           "shape": ""
          }
         },
         "name": "Asia",
         "nbinsx": 10,
         "offsetgroup": "Asia",
         "orientation": "v",
         "showlegend": true,
         "type": "histogram",
         "uid": "9b57aa9c-2737-4557-82a4-1a5d6d053f50",
         "x": {
          "dtype": "float64",
          "shape": [
           47
          ],
          "value": {}
         },
         "xaxis": "x",
         "yaxis": "y"
        },
        {
         "alignmentgroup": "True",
         "bingroup": "x",
         "hovertemplate": "Continent=Europe<br>Deaths/ 1M pop=%{x}<br>count=%{y}<extra></extra>",
         "legendgroup": "Europe",
         "marker": {
          "color": "#EF553B",
          "pattern": {
           "shape": ""
          }
         },
         "name": "Europe",
         "nbinsx": 10,
         "offsetgroup": "Europe",
         "orientation": "v",
         "showlegend": true,
         "type": "histogram",
         "uid": "c907fd3e-9339-4b8e-85ee-149017d45cbe",
         "x": {
          "dtype": "float64",
          "shape": [
           43
          ],
          "value": {}
         },
         "xaxis": "x",
         "yaxis": "y"
        },
        {
         "alignmentgroup": "True",
         "bingroup": "x",
         "hovertemplate": "Continent=South America<br>Deaths/ 1M pop=%{x}<br>count=%{y}<extra></extra>",
         "legendgroup": "South America",
         "marker": {
          "color": "#00cc96",
          "pattern": {
           "shape": ""
          }
         },
         "name": "South America",
         "nbinsx": 10,
         "offsetgroup": "South America",
         "orientation": "v",
         "showlegend": true,
         "type": "histogram",
         "uid": "d9058c78-45ce-49b7-b1bb-b7b3f6e5bea6",
         "x": {
          "dtype": "float64",
          "shape": [
           13
          ],
          "value": {}
         },
         "xaxis": "x",
         "yaxis": "y"
        },
        {
         "alignmentgroup": "True",
         "bingroup": "x",
         "hovertemplate": "Continent=Oceania<br>Deaths/ 1M pop=%{x}<br>count=%{y}<extra></extra>",
         "legendgroup": "Oceania",
         "marker": {
          "color": "#ab63fa",
          "pattern": {
           "shape": ""
          }
         },
         "name": "Oceania",
         "nbinsx": 10,
         "offsetgroup": "Oceania",
         "orientation": "v",
         "showlegend": true,
         "type": "histogram",
         "uid": "556ad7b1-1ea2-4497-99c7-cc0b35bdcc31",
         "x": {
          "dtype": "float64",
          "shape": [
           18
          ],
          "value": {}
         },
         "xaxis": "x",
         "yaxis": "y"
        },
        {
         "alignmentgroup": "True",
         "bingroup": "x",
         "hovertemplate": "Continent=North America<br>Deaths/ 1M pop=%{x}<br>count=%{y}<extra></extra>",
         "legendgroup": "North America",
         "marker": {
          "color": "#FFA15A",
          "pattern": {
           "shape": ""
          }
         },
         "name": "North America",
         "nbinsx": 10,
         "offsetgroup": "North America",
         "orientation": "v",
         "showlegend": true,
         "type": "histogram",
         "uid": "9675840c-b4b1-4a92-9dfe-118bf0521eb9",
         "x": {
          "dtype": "float64",
          "shape": [
           30
          ],
          "value": {}
         },
         "xaxis": "x",
         "yaxis": "y"
        },
        {
         "alignmentgroup": "True",
         "bingroup": "x",
         "hovertemplate": "Continent=Africa<br>Deaths/ 1M pop=%{x}<br>count=%{y}<extra></extra>",
         "legendgroup": "Africa",
         "marker": {
          "color": "#19d3f3",
          "pattern": {
           "shape": ""
          }
         },
         "name": "Africa",
         "nbinsx": 10,
         "offsetgroup": "Africa",
         "orientation": "v",
         "showlegend": true,
         "type": "histogram",
         "uid": "3f78c8eb-fd93-4df4-9936-1c7273e69ea5",
         "x": {
          "dtype": "float64",
          "shape": [
           54
          ],
          "value": {}
         },
         "xaxis": "x",
         "yaxis": "y"
        }
       ],
       "_js2py_layoutDelta": {},
       "_js2py_pointsCallback": {},
       "_js2py_relayout": {},
       "_js2py_restyle": {},
       "_js2py_traceDeltas": {},
       "_js2py_update": {},
       "_layout": {
        "barmode": "group",
        "legend": {
         "title": {
          "text": "Continent"
         },
         "tracegroupgap": 0
        },
        "template": {
         "data": {
          "bar": [
           {
            "error_x": {
             "color": "#2a3f5f"
            },
            "error_y": {
             "color": "#2a3f5f"
            },
            "marker": {
             "line": {
              "color": "#E5ECF6",
              "width": 0.5
             },
             "pattern": {
              "fillmode": "overlay",
              "size": 10,
              "solidity": 0.2
             }
            },
            "type": "bar"
           }
          ],
          "barpolar": [
           {
            "marker": {
             "line": {
              "color": "#E5ECF6",
              "width": 0.5
             },
             "pattern": {
              "fillmode": "overlay",
              "size": 10,
              "solidity": 0.2
             }
            },
            "type": "barpolar"
           }
          ],
          "carpet": [
           {
            "aaxis": {
             "endlinecolor": "#2a3f5f",
             "gridcolor": "white",
             "linecolor": "white",
             "minorgridcolor": "white",
             "startlinecolor": "#2a3f5f"
            },
            "baxis": {
             "endlinecolor": "#2a3f5f",
             "gridcolor": "white",
             "linecolor": "white",
             "minorgridcolor": "white",
             "startlinecolor": "#2a3f5f"
            },
            "type": "carpet"
           }
          ],
          "choropleth": [
           {
            "colorbar": {
             "outlinewidth": 0,
             "ticks": ""
            },
            "type": "choropleth"
           }
          ],
          "contour": [
           {
            "colorbar": {
             "outlinewidth": 0,
             "ticks": ""
            },
            "colorscale": [
             [
              0,
              "#0d0887"
             ],
             [
              0.1111111111111111,
              "#46039f"
             ],
             [
              0.2222222222222222,
              "#7201a8"
             ],
             [
              0.3333333333333333,
              "#9c179e"
             ],
             [
              0.4444444444444444,
              "#bd3786"
             ],
             [
              0.5555555555555556,
              "#d8576b"
             ],
             [
              0.6666666666666666,
              "#ed7953"
             ],
             [
              0.7777777777777778,
              "#fb9f3a"
             ],
             [
              0.8888888888888888,
              "#fdca26"
             ],
             [
              1,
              "#f0f921"
             ]
            ],
            "type": "contour"
           }
          ],
          "contourcarpet": [
           {
            "colorbar": {
             "outlinewidth": 0,
             "ticks": ""
            },
            "type": "contourcarpet"
           }
          ],
          "heatmap": [
           {
            "colorbar": {
             "outlinewidth": 0,
             "ticks": ""
            },
            "colorscale": [
             [
              0,
              "#0d0887"
             ],
             [
              0.1111111111111111,
              "#46039f"
             ],
             [
              0.2222222222222222,
              "#7201a8"
             ],
             [
              0.3333333333333333,
              "#9c179e"
             ],
             [
              0.4444444444444444,
              "#bd3786"
             ],
             [
              0.5555555555555556,
              "#d8576b"
             ],
             [
              0.6666666666666666,
              "#ed7953"
             ],
             [
              0.7777777777777778,
              "#fb9f3a"
             ],
             [
              0.8888888888888888,
              "#fdca26"
             ],
             [
              1,
              "#f0f921"
             ]
            ],
            "type": "heatmap"
           }
          ],
          "heatmapgl": [
           {
            "colorbar": {
             "outlinewidth": 0,
             "ticks": ""
            },
            "colorscale": [
             [
              0,
              "#0d0887"
             ],
             [
              0.1111111111111111,
              "#46039f"
             ],
             [
              0.2222222222222222,
              "#7201a8"
             ],
             [
              0.3333333333333333,
              "#9c179e"
             ],
             [
              0.4444444444444444,
              "#bd3786"
             ],
             [
              0.5555555555555556,
              "#d8576b"
             ],
             [
              0.6666666666666666,
              "#ed7953"
             ],
             [
              0.7777777777777778,
              "#fb9f3a"
             ],
             [
              0.8888888888888888,
              "#fdca26"
             ],
             [
              1,
              "#f0f921"
             ]
            ],
            "type": "heatmapgl"
           }
          ],
          "histogram": [
           {
            "marker": {
             "pattern": {
              "fillmode": "overlay",
              "size": 10,
              "solidity": 0.2
             }
            },
            "type": "histogram"
           }
          ],
          "histogram2d": [
           {
            "colorbar": {
             "outlinewidth": 0,
             "ticks": ""
            },
            "colorscale": [
             [
              0,
              "#0d0887"
             ],
             [
              0.1111111111111111,
              "#46039f"
             ],
             [
              0.2222222222222222,
              "#7201a8"
             ],
             [
              0.3333333333333333,
              "#9c179e"
             ],
             [
              0.4444444444444444,
              "#bd3786"
             ],
             [
              0.5555555555555556,
              "#d8576b"
             ],
             [
              0.6666666666666666,
              "#ed7953"
             ],
             [
              0.7777777777777778,
              "#fb9f3a"
             ],
             [
              0.8888888888888888,
              "#fdca26"
             ],
             [
              1,
              "#f0f921"
             ]
            ],
            "type": "histogram2d"
           }
          ],
          "histogram2dcontour": [
           {
            "colorbar": {
             "outlinewidth": 0,
             "ticks": ""
            },
            "colorscale": [
             [
              0,
              "#0d0887"
             ],
             [
              0.1111111111111111,
              "#46039f"
             ],
             [
              0.2222222222222222,
              "#7201a8"
             ],
             [
              0.3333333333333333,
              "#9c179e"
             ],
             [
              0.4444444444444444,
              "#bd3786"
             ],
             [
              0.5555555555555556,
              "#d8576b"
             ],
             [
              0.6666666666666666,
              "#ed7953"
             ],
             [
              0.7777777777777778,
              "#fb9f3a"
             ],
             [
              0.8888888888888888,
              "#fdca26"
             ],
             [
              1,
              "#f0f921"
             ]
            ],
            "type": "histogram2dcontour"
           }
          ],
          "mesh3d": [
           {
            "colorbar": {
             "outlinewidth": 0,
             "ticks": ""
            },
            "type": "mesh3d"
           }
          ],
          "parcoords": [
           {
            "line": {
             "colorbar": {
              "outlinewidth": 0,
              "ticks": ""
             }
            },
            "type": "parcoords"
           }
          ],
          "pie": [
           {
            "automargin": true,
            "type": "pie"
           }
          ],
          "scatter": [
           {
            "fillpattern": {
             "fillmode": "overlay",
             "size": 10,
             "solidity": 0.2
            },
            "type": "scatter"
           }
          ],
          "scatter3d": [
           {
            "line": {
             "colorbar": {
              "outlinewidth": 0,
              "ticks": ""
             }
            },
            "marker": {
             "colorbar": {
              "outlinewidth": 0,
              "ticks": ""
             }
            },
            "type": "scatter3d"
           }
          ],
          "scattercarpet": [
           {
            "marker": {
             "colorbar": {
              "outlinewidth": 0,
              "ticks": ""
             }
            },
            "type": "scattercarpet"
           }
          ],
          "scattergeo": [
           {
            "marker": {
             "colorbar": {
              "outlinewidth": 0,
              "ticks": ""
             }
            },
            "type": "scattergeo"
           }
          ],
          "scattergl": [
           {
            "marker": {
             "colorbar": {
              "outlinewidth": 0,
              "ticks": ""
             }
            },
            "type": "scattergl"
           }
          ],
          "scattermapbox": [
           {
            "marker": {
             "colorbar": {
              "outlinewidth": 0,
              "ticks": ""
             }
            },
            "type": "scattermapbox"
           }
          ],
          "scatterpolar": [
           {
            "marker": {
             "colorbar": {
              "outlinewidth": 0,
              "ticks": ""
             }
            },
            "type": "scatterpolar"
           }
          ],
          "scatterpolargl": [
           {
            "marker": {
             "colorbar": {
              "outlinewidth": 0,
              "ticks": ""
             }
            },
            "type": "scatterpolargl"
           }
          ],
          "scatterternary": [
           {
            "marker": {
             "colorbar": {
              "outlinewidth": 0,
              "ticks": ""
             }
            },
            "type": "scatterternary"
           }
          ],
          "surface": [
           {
            "colorbar": {
             "outlinewidth": 0,
             "ticks": ""
            },
            "colorscale": [
             [
              0,
              "#0d0887"
             ],
             [
              0.1111111111111111,
              "#46039f"
             ],
             [
              0.2222222222222222,
              "#7201a8"
             ],
             [
              0.3333333333333333,
              "#9c179e"
             ],
             [
              0.4444444444444444,
              "#bd3786"
             ],
             [
              0.5555555555555556,
              "#d8576b"
             ],
             [
              0.6666666666666666,
              "#ed7953"
             ],
             [
              0.7777777777777778,
              "#fb9f3a"
             ],
             [
              0.8888888888888888,
              "#fdca26"
             ],
             [
              1,
              "#f0f921"
             ]
            ],
            "type": "surface"
           }
          ],
          "table": [
           {
            "cells": {
             "fill": {
              "color": "#EBF0F8"
             },
             "line": {
              "color": "white"
             }
            },
            "header": {
             "fill": {
              "color": "#C8D4E3"
             },
             "line": {
              "color": "white"
             }
            },
            "type": "table"
           }
          ]
         },
         "layout": {
          "annotationdefaults": {
           "arrowcolor": "#2a3f5f",
           "arrowhead": 0,
           "arrowwidth": 1
          },
          "autotypenumbers": "strict",
          "coloraxis": {
           "colorbar": {
            "outlinewidth": 0,
            "ticks": ""
           }
          },
          "colorscale": {
           "diverging": [
            [
             0,
             "#8e0152"
            ],
            [
             0.1,
             "#c51b7d"
            ],
            [
             0.2,
             "#de77ae"
            ],
            [
             0.3,
             "#f1b6da"
            ],
            [
             0.4,
             "#fde0ef"
            ],
            [
             0.5,
             "#f7f7f7"
            ],
            [
             0.6,
             "#e6f5d0"
            ],
            [
             0.7,
             "#b8e186"
            ],
            [
             0.8,
             "#7fbc41"
            ],
            [
             0.9,
             "#4d9221"
            ],
            [
             1,
             "#276419"
            ]
           ],
           "sequential": [
            [
             0,
             "#0d0887"
            ],
            [
             0.1111111111111111,
             "#46039f"
            ],
            [
             0.2222222222222222,
             "#7201a8"
            ],
            [
             0.3333333333333333,
             "#9c179e"
            ],
            [
             0.4444444444444444,
             "#bd3786"
            ],
            [
             0.5555555555555556,
             "#d8576b"
            ],
            [
             0.6666666666666666,
             "#ed7953"
            ],
            [
             0.7777777777777778,
             "#fb9f3a"
            ],
            [
             0.8888888888888888,
             "#fdca26"
            ],
            [
             1,
             "#f0f921"
            ]
           ],
           "sequentialminus": [
            [
             0,
             "#0d0887"
            ],
            [
             0.1111111111111111,
             "#46039f"
            ],
            [
             0.2222222222222222,
             "#7201a8"
            ],
            [
             0.3333333333333333,
             "#9c179e"
            ],
            [
             0.4444444444444444,
             "#bd3786"
            ],
            [
             0.5555555555555556,
             "#d8576b"
            ],
            [
             0.6666666666666666,
             "#ed7953"
            ],
            [
             0.7777777777777778,
             "#fb9f3a"
            ],
            [
             0.8888888888888888,
             "#fdca26"
            ],
            [
             1,
             "#f0f921"
            ]
           ]
          },
          "colorway": [
           "#636efa",
           "#EF553B",
           "#00cc96",
           "#ab63fa",
           "#FFA15A",
           "#19d3f3",
           "#FF6692",
           "#B6E880",
           "#FF97FF",
           "#FECB52"
          ],
          "font": {
           "color": "#2a3f5f"
          },
          "geo": {
           "bgcolor": "white",
           "lakecolor": "white",
           "landcolor": "#E5ECF6",
           "showlakes": true,
           "showland": true,
           "subunitcolor": "white"
          },
          "hoverlabel": {
           "align": "left"
          },
          "hovermode": "closest",
          "mapbox": {
           "style": "light"
          },
          "paper_bgcolor": "white",
          "plot_bgcolor": "#E5ECF6",
          "polar": {
           "angularaxis": {
            "gridcolor": "white",
            "linecolor": "white",
            "ticks": ""
           },
           "bgcolor": "#E5ECF6",
           "radialaxis": {
            "gridcolor": "white",
            "linecolor": "white",
            "ticks": ""
           }
          },
          "scene": {
           "xaxis": {
            "backgroundcolor": "#E5ECF6",
            "gridcolor": "white",
            "gridwidth": 2,
            "linecolor": "white",
            "showbackground": true,
            "ticks": "",
            "zerolinecolor": "white"
           },
           "yaxis": {
            "backgroundcolor": "#E5ECF6",
            "gridcolor": "white",
            "gridwidth": 2,
            "linecolor": "white",
            "showbackground": true,
            "ticks": "",
            "zerolinecolor": "white"
           },
           "zaxis": {
            "backgroundcolor": "#E5ECF6",
            "gridcolor": "white",
            "gridwidth": 2,
            "linecolor": "white",
            "showbackground": true,
            "ticks": "",
            "zerolinecolor": "white"
           }
          },
          "shapedefaults": {
           "line": {
            "color": "#2a3f5f"
           }
          },
          "ternary": {
           "aaxis": {
            "gridcolor": "white",
            "linecolor": "white",
            "ticks": ""
           },
           "baxis": {
            "gridcolor": "white",
            "linecolor": "white",
            "ticks": ""
           },
           "bgcolor": "#E5ECF6",
           "caxis": {
            "gridcolor": "white",
            "linecolor": "white",
            "ticks": ""
           }
          },
          "title": {
           "x": 0.05
          },
          "xaxis": {
           "automargin": true,
           "gridcolor": "white",
           "linecolor": "white",
           "ticks": "",
           "title": {
            "standoff": 15
           },
           "zerolinecolor": "white",
           "zerolinewidth": 2
          },
          "yaxis": {
           "automargin": true,
           "gridcolor": "white",
           "linecolor": "white",
           "ticks": "",
           "title": {
            "standoff": 15
           },
           "zerolinecolor": "white",
           "zerolinewidth": 2
          }
         }
        },
        "title": {
         "text": "Deaths/ 1M pop"
        },
        "xaxis": {
         "anchor": "y",
         "domain": [
          0,
          1
         ],
         "title": {
          "text": "Deaths/ 1M pop"
         }
        },
        "yaxis": {
         "anchor": "x",
         "domain": [
          0,
          1
         ],
         "title": {
          "text": "count"
         }
        }
       },
       "_py2js_addTraces": {},
       "_py2js_animate": {},
       "_py2js_deleteTraces": {},
       "_py2js_moveTraces": {},
       "_py2js_relayout": {},
       "_py2js_removeLayoutProps": {},
       "_py2js_removeTraceProps": {},
       "_py2js_restyle": {},
       "_py2js_update": {},
       "_view_count": 0
      }
     },
     "a2e52a94135a4eb39a2a47d75f747b5a": {
      "buffers": [
       {
        "data": "AAAAAACAd0AAAAAAAEiBQAAAAAAAQHZAAAAAAAB4kkAAAAAAAEB7QAAAAAAAPJpAAAAAAACwgUAAAAAAANB8QAAAAAAAIJFAAAAAAAAACEAAAAAAAEB9QAAAAAAAmJNAAAAAAAB4gUAAAAAAAMiCQAAAAAAA4GVAAAAAAAAAcUAAAAAAAKKwQAAAAAAA3JRAAAAAAABslUAAAAAAAKBgQAAAAAAASIZAAAAAAAD0mEAAAAAAACBtQAAAAAAA4HhAAAAAAAAohEAAAAAAABCOQAAAAAAAUHBAAAAAAACgikAAAAAAAEiIQAAAAAAASIJAAAAAAAAAdkAAAAAAACiOQAAAAAAAoGxAAAAAAADUpkAAAAAAAACJQAAAAAAAABBAAAAAAAAASEAAAAAAAJB/QAAAAAAAQFlAAAAAAADQe0AAAAAAAOBnQAAAAAAAyIFAAAAAAABAZkAAAAAAAAA7QAAAAAAAYGRAAAAAAAAAKkAAAAAAAEBRQA==",
        "encoding": "base64",
        "path": [
         "_data",
         0,
         "x",
         "value"
        ]
       },
       {
        "data": "AAAAAAB6okAAAAAAAPCbQAAAAAAAqqVAAAAAAAD0pkAAAAAAAL6kQAAAAAAAFKNAAAAAAACQlEAAAAAAAFSoQAAAAAAASKNAAAAAAADAo0AAAAAAAN6hQAAAAAAAEqlAAAAAAADepUAAAAAAAESZQAAAAAAAgqtAAAAAAADskkAAAAAAAOCeQAAAAAAAtJ5AAAAAAABRs0AAAAAAAEStQAAAAAAAnJhAAAAAAABAh0AAAAAAANSQQAAAAAAAhrVAAAAAAABcq0AAAAAAAESwQAAAAAAApKlAAAAAAACYh0AAAAAAAFCpQAAAAAAAsJ9AAAAAAAAOp0AAAAAAAGazQAAAAAAAkJNAAAAAAABQm0AAAAAAAEiDQAAAAAAAXJxAAAAAAABEn0AAAAAAACSVQAAAAAAAyIFAAAAAAAAMq0AAAAAAAAipQAAAAAAAgKFAAAAAAADAmEA=",
        "encoding": "base64",
        "path": [
         "_data",
         1,
         "x",
         "value"
        ]
       },
       {
        "data": "AAAAAADkqEAAAAAAAA6mQAAAAAAAgqVAAAAAAADQqEAAAAAAAB25QAAAAAAA+JxAAAAAAAD4nkAAAAAAALqgQAAAAAAA8KRAAAAAAADgaEAAAAAAAGSUQAAAAAAAIqJAAAAAAAA0mUA=",
        "encoding": "base64",
        "path": [
         "_data",
         2,
         "x",
         "value"
        ]
       },
       {
        "data": "AAAAAAD4gUAAAAAAAOCCQAAAAAAA2KFAAAAAAADckEAAAAAAACiOQAAAAAAAAFJAAAAAAACAakAAAAAAAMBbQAAAAAAA4GFAAAAAAACwcUAAAAAAAABGQAAAAAAA4G5AAAAAAACATEAAAAAAAJB0QAAAAAAAAFdAAAAAAABAWkAAAAAAAOiDQAAAAAAAAPh/",
        "encoding": "base64",
        "path": [
         "_data",
         3,
         "x",
         "value"
        ]
       },
       {
        "data": "AAAAAACao0AAAAAAAFCSQAAAAAAApJBAAAAAAACQh0AAAAAAAOCaQAAAAAAA3J1AAAAAAADQeEAAAAAAANCQQAAAAAAAzqVAAAAAAAAwhEAAAAAAAFSjQAAAAAAATKdAAAAAAABckUAAAAAAAFSeQAAAAAAA5JlAAAAAAAB6oEAAAAAAAECgQAAAAAAAQFJAAAAAAADAfUAAAAAAAICgQAAAAAAAUqBAAAAAAACAQEAAAAAAAKqiQAAAAAAA+I9AAAAAAAAQd0AAAAAAAOyWQAAAAAAAsIpAAAAAAACgiEAAAAAAAMBlQAAAAAAALJlA",
        "encoding": "base64",
        "path": [
         "_data",
         4,
         "x",
         "value"
        ]
       },
       {
        "data": "AAAAAABImkAAAAAAAPB6QAAAAAAA+KJAAAAAAAAAbUAAAAAAAJCMQAAAAAAAgE9AAAAAAAC4jkAAAAAAAEBZQAAAAAAAwGlAAAAAAADYkUAAAAAAAABjQAAAAAAAAC5AAAAAAADQdkAAAAAAAMBQQAAAAAAAwFJAAAAAAAAcmEAAAAAAAIBGQAAAAAAAAFtAAAAAAABAUUAAAAAAAIBLQAAAAAAAAC5AAAAAAADAUEAAAAAAAMBbQAAAAAAAoGBAAAAAAAAASEAAAAAAAABbQAAAAAAAYGlAAAAAAAAACEAAAAAAAGBgQAAAAAAAkJpAAAAAAAAYiUAAAAAAAGiEQAAAAAAAACpAAAAAAACAQEAAAAAAAABAQAAAAAAAQHRAAAAAAACAQUAAAAAAAAAqQAAAAAAAAFRAAAAAAAAAMkAAAAAAAIBeQAAAAAAAQGdAAAAAAAAAN0AAAAAAACBiQAAAAAAAADxAAAAAAAAAKEAAAAAAAEBVQAAAAAAAIGZAAAAAAACAS0AAAAAAAAAuQAAAAAAAACZAAAAAAAAgdUAAAAAAAAD4fwAAAAAAAABA",
        "encoding": "base64",
        "path": [
         "_data",
         5,
         "x",
         "value"
        ]
       }
      ],
      "model_module": "jupyterlab-plotly",
      "model_module_version": "^5.10.0",
      "model_name": "FigureModel",
      "state": {
       "_config": {
        "plotlyServerURL": "https://plot.ly"
       },
       "_data": [
        {
         "alignmentgroup": "True",
         "bingroup": "x",
         "hovertemplate": "Continent=Asia<br>Deaths/ 1M pop=%{x}<br>count=%{y}<extra></extra>",
         "legendgroup": "Asia",
         "marker": {
          "color": "#636efa",
          "pattern": {
           "shape": ""
          }
         },
         "name": "Asia",
         "nbinsx": 10,
         "offsetgroup": "Asia",
         "orientation": "v",
         "showlegend": true,
         "type": "histogram",
         "uid": "bb9b04b4-62c8-4732-bb42-9d03d0920ca9",
         "x": {
          "dtype": "float64",
          "shape": [
           47
          ],
          "value": {}
         },
         "xaxis": "x",
         "yaxis": "y"
        },
        {
         "alignmentgroup": "True",
         "bingroup": "x",
         "hovertemplate": "Continent=Europe<br>Deaths/ 1M pop=%{x}<br>count=%{y}<extra></extra>",
         "legendgroup": "Europe",
         "marker": {
          "color": "#EF553B",
          "pattern": {
           "shape": ""
          }
         },
         "name": "Europe",
         "nbinsx": 10,
         "offsetgroup": "Europe",
         "orientation": "v",
         "showlegend": true,
         "type": "histogram",
         "uid": "1df0101f-4cea-4d8e-a798-1e696fda0e3b",
         "x": {
          "dtype": "float64",
          "shape": [
           43
          ],
          "value": {}
         },
         "xaxis": "x",
         "yaxis": "y"
        },
        {
         "alignmentgroup": "True",
         "bingroup": "x",
         "hovertemplate": "Continent=South America<br>Deaths/ 1M pop=%{x}<br>count=%{y}<extra></extra>",
         "legendgroup": "South America",
         "marker": {
          "color": "#00cc96",
          "pattern": {
           "shape": ""
          }
         },
         "name": "South America",
         "nbinsx": 10,
         "offsetgroup": "South America",
         "orientation": "v",
         "showlegend": true,
         "type": "histogram",
         "uid": "2dd4a5c0-0a04-4b4f-bb18-4315fe988be3",
         "x": {
          "dtype": "float64",
          "shape": [
           13
          ],
          "value": {}
         },
         "xaxis": "x",
         "yaxis": "y"
        },
        {
         "alignmentgroup": "True",
         "bingroup": "x",
         "hovertemplate": "Continent=Oceania<br>Deaths/ 1M pop=%{x}<br>count=%{y}<extra></extra>",
         "legendgroup": "Oceania",
         "marker": {
          "color": "#ab63fa",
          "pattern": {
           "shape": ""
          }
         },
         "name": "Oceania",
         "nbinsx": 10,
         "offsetgroup": "Oceania",
         "orientation": "v",
         "showlegend": true,
         "type": "histogram",
         "uid": "39cb8a51-7ddd-414b-87a6-1ab3e6733d6f",
         "x": {
          "dtype": "float64",
          "shape": [
           18
          ],
          "value": {}
         },
         "xaxis": "x",
         "yaxis": "y"
        },
        {
         "alignmentgroup": "True",
         "bingroup": "x",
         "hovertemplate": "Continent=North America<br>Deaths/ 1M pop=%{x}<br>count=%{y}<extra></extra>",
         "legendgroup": "North America",
         "marker": {
          "color": "#FFA15A",
          "pattern": {
           "shape": ""
          }
         },
         "name": "North America",
         "nbinsx": 10,
         "offsetgroup": "North America",
         "orientation": "v",
         "showlegend": true,
         "type": "histogram",
         "uid": "a3b71ae8-640a-461f-ba7f-10bda202beb2",
         "x": {
          "dtype": "float64",
          "shape": [
           30
          ],
          "value": {}
         },
         "xaxis": "x",
         "yaxis": "y"
        },
        {
         "alignmentgroup": "True",
         "bingroup": "x",
         "hovertemplate": "Continent=Africa<br>Deaths/ 1M pop=%{x}<br>count=%{y}<extra></extra>",
         "legendgroup": "Africa",
         "marker": {
          "color": "#19d3f3",
          "pattern": {
           "shape": ""
          }
         },
         "name": "Africa",
         "nbinsx": 10,
         "offsetgroup": "Africa",
         "orientation": "v",
         "showlegend": true,
         "type": "histogram",
         "uid": "1a88ccb9-86c7-4040-a1e3-1000edcb7ff5",
         "x": {
          "dtype": "float64",
          "shape": [
           54
          ],
          "value": {}
         },
         "xaxis": "x",
         "yaxis": "y"
        }
       ],
       "_js2py_layoutDelta": {},
       "_js2py_pointsCallback": {},
       "_js2py_relayout": {},
       "_js2py_restyle": {},
       "_js2py_traceDeltas": {},
       "_js2py_update": {},
       "_layout": {
        "barmode": "group",
        "legend": {
         "title": {
          "text": "Continent"
         },
         "tracegroupgap": 0
        },
        "template": {
         "data": {
          "bar": [
           {
            "error_x": {
             "color": "#2a3f5f"
            },
            "error_y": {
             "color": "#2a3f5f"
            },
            "marker": {
             "line": {
              "color": "#E5ECF6",
              "width": 0.5
             },
             "pattern": {
              "fillmode": "overlay",
              "size": 10,
              "solidity": 0.2
             }
            },
            "type": "bar"
           }
          ],
          "barpolar": [
           {
            "marker": {
             "line": {
              "color": "#E5ECF6",
              "width": 0.5
             },
             "pattern": {
              "fillmode": "overlay",
              "size": 10,
              "solidity": 0.2
             }
            },
            "type": "barpolar"
           }
          ],
          "carpet": [
           {
            "aaxis": {
             "endlinecolor": "#2a3f5f",
             "gridcolor": "white",
             "linecolor": "white",
             "minorgridcolor": "white",
             "startlinecolor": "#2a3f5f"
            },
            "baxis": {
             "endlinecolor": "#2a3f5f",
             "gridcolor": "white",
             "linecolor": "white",
             "minorgridcolor": "white",
             "startlinecolor": "#2a3f5f"
            },
            "type": "carpet"
           }
          ],
          "choropleth": [
           {
            "colorbar": {
             "outlinewidth": 0,
             "ticks": ""
            },
            "type": "choropleth"
           }
          ],
          "contour": [
           {
            "colorbar": {
             "outlinewidth": 0,
             "ticks": ""
            },
            "colorscale": [
             [
              0,
              "#0d0887"
             ],
             [
              0.1111111111111111,
              "#46039f"
             ],
             [
              0.2222222222222222,
              "#7201a8"
             ],
             [
              0.3333333333333333,
              "#9c179e"
             ],
             [
              0.4444444444444444,
              "#bd3786"
             ],
             [
              0.5555555555555556,
              "#d8576b"
             ],
             [
              0.6666666666666666,
              "#ed7953"
             ],
             [
              0.7777777777777778,
              "#fb9f3a"
             ],
             [
              0.8888888888888888,
              "#fdca26"
             ],
             [
              1,
              "#f0f921"
             ]
            ],
            "type": "contour"
           }
          ],
          "contourcarpet": [
           {
            "colorbar": {
             "outlinewidth": 0,
             "ticks": ""
            },
            "type": "contourcarpet"
           }
          ],
          "heatmap": [
           {
            "colorbar": {
             "outlinewidth": 0,
             "ticks": ""
            },
            "colorscale": [
             [
              0,
              "#0d0887"
             ],
             [
              0.1111111111111111,
              "#46039f"
             ],
             [
              0.2222222222222222,
              "#7201a8"
             ],
             [
              0.3333333333333333,
              "#9c179e"
             ],
             [
              0.4444444444444444,
              "#bd3786"
             ],
             [
              0.5555555555555556,
              "#d8576b"
             ],
             [
              0.6666666666666666,
              "#ed7953"
             ],
             [
              0.7777777777777778,
              "#fb9f3a"
             ],
             [
              0.8888888888888888,
              "#fdca26"
             ],
             [
              1,
              "#f0f921"
             ]
            ],
            "type": "heatmap"
           }
          ],
          "heatmapgl": [
           {
            "colorbar": {
             "outlinewidth": 0,
             "ticks": ""
            },
            "colorscale": [
             [
              0,
              "#0d0887"
             ],
             [
              0.1111111111111111,
              "#46039f"
             ],
             [
              0.2222222222222222,
              "#7201a8"
             ],
             [
              0.3333333333333333,
              "#9c179e"
             ],
             [
              0.4444444444444444,
              "#bd3786"
             ],
             [
              0.5555555555555556,
              "#d8576b"
             ],
             [
              0.6666666666666666,
              "#ed7953"
             ],
             [
              0.7777777777777778,
              "#fb9f3a"
             ],
             [
              0.8888888888888888,
              "#fdca26"
             ],
             [
              1,
              "#f0f921"
             ]
            ],
            "type": "heatmapgl"
           }
          ],
          "histogram": [
           {
            "marker": {
             "pattern": {
              "fillmode": "overlay",
              "size": 10,
              "solidity": 0.2
             }
            },
            "type": "histogram"
           }
          ],
          "histogram2d": [
           {
            "colorbar": {
             "outlinewidth": 0,
             "ticks": ""
            },
            "colorscale": [
             [
              0,
              "#0d0887"
             ],
             [
              0.1111111111111111,
              "#46039f"
             ],
             [
              0.2222222222222222,
              "#7201a8"
             ],
             [
              0.3333333333333333,
              "#9c179e"
             ],
             [
              0.4444444444444444,
              "#bd3786"
             ],
             [
              0.5555555555555556,
              "#d8576b"
             ],
             [
              0.6666666666666666,
              "#ed7953"
             ],
             [
              0.7777777777777778,
              "#fb9f3a"
             ],
             [
              0.8888888888888888,
              "#fdca26"
             ],
             [
              1,
              "#f0f921"
             ]
            ],
            "type": "histogram2d"
           }
          ],
          "histogram2dcontour": [
           {
            "colorbar": {
             "outlinewidth": 0,
             "ticks": ""
            },
            "colorscale": [
             [
              0,
              "#0d0887"
             ],
             [
              0.1111111111111111,
              "#46039f"
             ],
             [
              0.2222222222222222,
              "#7201a8"
             ],
             [
              0.3333333333333333,
              "#9c179e"
             ],
             [
              0.4444444444444444,
              "#bd3786"
             ],
             [
              0.5555555555555556,
              "#d8576b"
             ],
             [
              0.6666666666666666,
              "#ed7953"
             ],
             [
              0.7777777777777778,
              "#fb9f3a"
             ],
             [
              0.8888888888888888,
              "#fdca26"
             ],
             [
              1,
              "#f0f921"
             ]
            ],
            "type": "histogram2dcontour"
           }
          ],
          "mesh3d": [
           {
            "colorbar": {
             "outlinewidth": 0,
             "ticks": ""
            },
            "type": "mesh3d"
           }
          ],
          "parcoords": [
           {
            "line": {
             "colorbar": {
              "outlinewidth": 0,
              "ticks": ""
             }
            },
            "type": "parcoords"
           }
          ],
          "pie": [
           {
            "automargin": true,
            "type": "pie"
           }
          ],
          "scatter": [
           {
            "fillpattern": {
             "fillmode": "overlay",
             "size": 10,
             "solidity": 0.2
            },
            "type": "scatter"
           }
          ],
          "scatter3d": [
           {
            "line": {
             "colorbar": {
              "outlinewidth": 0,
              "ticks": ""
             }
            },
            "marker": {
             "colorbar": {
              "outlinewidth": 0,
              "ticks": ""
             }
            },
            "type": "scatter3d"
           }
          ],
          "scattercarpet": [
           {
            "marker": {
             "colorbar": {
              "outlinewidth": 0,
              "ticks": ""
             }
            },
            "type": "scattercarpet"
           }
          ],
          "scattergeo": [
           {
            "marker": {
             "colorbar": {
              "outlinewidth": 0,
              "ticks": ""
             }
            },
            "type": "scattergeo"
           }
          ],
          "scattergl": [
           {
            "marker": {
             "colorbar": {
              "outlinewidth": 0,
              "ticks": ""
             }
            },
            "type": "scattergl"
           }
          ],
          "scattermapbox": [
           {
            "marker": {
             "colorbar": {
              "outlinewidth": 0,
              "ticks": ""
             }
            },
            "type": "scattermapbox"
           }
          ],
          "scatterpolar": [
           {
            "marker": {
             "colorbar": {
              "outlinewidth": 0,
              "ticks": ""
             }
            },
            "type": "scatterpolar"
           }
          ],
          "scatterpolargl": [
           {
            "marker": {
             "colorbar": {
              "outlinewidth": 0,
              "ticks": ""
             }
            },
            "type": "scatterpolargl"
           }
          ],
          "scatterternary": [
           {
            "marker": {
             "colorbar": {
              "outlinewidth": 0,
              "ticks": ""
             }
            },
            "type": "scatterternary"
           }
          ],
          "surface": [
           {
            "colorbar": {
             "outlinewidth": 0,
             "ticks": ""
            },
            "colorscale": [
             [
              0,
              "#0d0887"
             ],
             [
              0.1111111111111111,
              "#46039f"
             ],
             [
              0.2222222222222222,
              "#7201a8"
             ],
             [
              0.3333333333333333,
              "#9c179e"
             ],
             [
              0.4444444444444444,
              "#bd3786"
             ],
             [
              0.5555555555555556,
              "#d8576b"
             ],
             [
              0.6666666666666666,
              "#ed7953"
             ],
             [
              0.7777777777777778,
              "#fb9f3a"
             ],
             [
              0.8888888888888888,
              "#fdca26"
             ],
             [
              1,
              "#f0f921"
             ]
            ],
            "type": "surface"
           }
          ],
          "table": [
           {
            "cells": {
             "fill": {
              "color": "#EBF0F8"
             },
             "line": {
              "color": "white"
             }
            },
            "header": {
             "fill": {
              "color": "#C8D4E3"
             },
             "line": {
              "color": "white"
             }
            },
            "type": "table"
           }
          ]
         },
         "layout": {
          "annotationdefaults": {
           "arrowcolor": "#2a3f5f",
           "arrowhead": 0,
           "arrowwidth": 1
          },
          "autotypenumbers": "strict",
          "coloraxis": {
           "colorbar": {
            "outlinewidth": 0,
            "ticks": ""
           }
          },
          "colorscale": {
           "diverging": [
            [
             0,
             "#8e0152"
            ],
            [
             0.1,
             "#c51b7d"
            ],
            [
             0.2,
             "#de77ae"
            ],
            [
             0.3,
             "#f1b6da"
            ],
            [
             0.4,
             "#fde0ef"
            ],
            [
             0.5,
             "#f7f7f7"
            ],
            [
             0.6,
             "#e6f5d0"
            ],
            [
             0.7,
             "#b8e186"
            ],
            [
             0.8,
             "#7fbc41"
            ],
            [
             0.9,
             "#4d9221"
            ],
            [
             1,
             "#276419"
            ]
           ],
           "sequential": [
            [
             0,
             "#0d0887"
            ],
            [
             0.1111111111111111,
             "#46039f"
            ],
            [
             0.2222222222222222,
             "#7201a8"
            ],
            [
             0.3333333333333333,
             "#9c179e"
            ],
            [
             0.4444444444444444,
             "#bd3786"
            ],
            [
             0.5555555555555556,
             "#d8576b"
            ],
            [
             0.6666666666666666,
             "#ed7953"
            ],
            [
             0.7777777777777778,
             "#fb9f3a"
            ],
            [
             0.8888888888888888,
             "#fdca26"
            ],
            [
             1,
             "#f0f921"
            ]
           ],
           "sequentialminus": [
            [
             0,
             "#0d0887"
            ],
            [
             0.1111111111111111,
             "#46039f"
            ],
            [
             0.2222222222222222,
             "#7201a8"
            ],
            [
             0.3333333333333333,
             "#9c179e"
            ],
            [
             0.4444444444444444,
             "#bd3786"
            ],
            [
             0.5555555555555556,
             "#d8576b"
            ],
            [
             0.6666666666666666,
             "#ed7953"
            ],
            [
             0.7777777777777778,
             "#fb9f3a"
            ],
            [
             0.8888888888888888,
             "#fdca26"
            ],
            [
             1,
             "#f0f921"
            ]
           ]
          },
          "colorway": [
           "#636efa",
           "#EF553B",
           "#00cc96",
           "#ab63fa",
           "#FFA15A",
           "#19d3f3",
           "#FF6692",
           "#B6E880",
           "#FF97FF",
           "#FECB52"
          ],
          "font": {
           "color": "#2a3f5f"
          },
          "geo": {
           "bgcolor": "white",
           "lakecolor": "white",
           "landcolor": "#E5ECF6",
           "showlakes": true,
           "showland": true,
           "subunitcolor": "white"
          },
          "hoverlabel": {
           "align": "left"
          },
          "hovermode": "closest",
          "mapbox": {
           "style": "light"
          },
          "paper_bgcolor": "white",
          "plot_bgcolor": "#E5ECF6",
          "polar": {
           "angularaxis": {
            "gridcolor": "white",
            "linecolor": "white",
            "ticks": ""
           },
           "bgcolor": "#E5ECF6",
           "radialaxis": {
            "gridcolor": "white",
            "linecolor": "white",
            "ticks": ""
           }
          },
          "scene": {
           "xaxis": {
            "backgroundcolor": "#E5ECF6",
            "gridcolor": "white",
            "gridwidth": 2,
            "linecolor": "white",
            "showbackground": true,
            "ticks": "",
            "zerolinecolor": "white"
           },
           "yaxis": {
            "backgroundcolor": "#E5ECF6",
            "gridcolor": "white",
            "gridwidth": 2,
            "linecolor": "white",
            "showbackground": true,
            "ticks": "",
            "zerolinecolor": "white"
           },
           "zaxis": {
            "backgroundcolor": "#E5ECF6",
            "gridcolor": "white",
            "gridwidth": 2,
            "linecolor": "white",
            "showbackground": true,
            "ticks": "",
            "zerolinecolor": "white"
           }
          },
          "shapedefaults": {
           "line": {
            "color": "#2a3f5f"
           }
          },
          "ternary": {
           "aaxis": {
            "gridcolor": "white",
            "linecolor": "white",
            "ticks": ""
           },
           "baxis": {
            "gridcolor": "white",
            "linecolor": "white",
            "ticks": ""
           },
           "bgcolor": "#E5ECF6",
           "caxis": {
            "gridcolor": "white",
            "linecolor": "white",
            "ticks": ""
           }
          },
          "title": {
           "x": 0.05
          },
          "xaxis": {
           "automargin": true,
           "gridcolor": "white",
           "linecolor": "white",
           "ticks": "",
           "title": {
            "standoff": 15
           },
           "zerolinecolor": "white",
           "zerolinewidth": 2
          },
          "yaxis": {
           "automargin": true,
           "gridcolor": "white",
           "linecolor": "white",
           "ticks": "",
           "title": {
            "standoff": 15
           },
           "zerolinecolor": "white",
           "zerolinewidth": 2
          }
         }
        },
        "title": {
         "text": "Deaths/ 1M pop"
        },
        "xaxis": {
         "anchor": "y",
         "domain": [
          0,
          1
         ],
         "title": {
          "text": "Deaths/ 1M pop"
         }
        },
        "yaxis": {
         "anchor": "x",
         "domain": [
          0,
          1
         ],
         "title": {
          "text": "count"
         }
        }
       },
       "_py2js_addTraces": {},
       "_py2js_animate": {},
       "_py2js_deleteTraces": {},
       "_py2js_moveTraces": {},
       "_py2js_relayout": {},
       "_py2js_removeLayoutProps": {},
       "_py2js_removeTraceProps": {},
       "_py2js_restyle": {},
       "_py2js_update": {},
       "_view_count": 0
      }
     },
     "ac0b7a0c34074e4ab0b2eed03b347845": {
      "model_module": "@jupyter-widgets/controls",
      "model_module_version": "2.0.0",
      "model_name": "DropdownModel",
      "state": {
       "_options_labels": [
        "Total Cases",
        "Total Deaths",
        "New Deaths",
        "Total Recovered",
        "Active Cases",
        "Serious, Critical",
        "Tot Cases/ 1M pop",
        "Deaths/ 1M pop",
        "Total Tests",
        "Tests/ 1M pop",
        "Population",
        "Area (sq. mi.)",
        "Pop. Density (per sq. mi.)",
        "Coastline (coast/area ratio)",
        "Net migration",
        "Infant mortality (per 1000 births)",
        "GDP ($ per capita)",
        "Literacy (%)",
        "Phones (per 1000)",
        "Arable (%)",
        "Crops (%)",
        "Other (%)",
        "Climate",
        "Birthrate",
        "Deathrate",
        "Agriculture",
        "Industry",
        "Service"
       ],
       "description": "X axis:",
       "index": 7,
       "layout": "IPY_MODEL_5782491fae314020a9f61b2ec9acfde8",
       "style": "IPY_MODEL_f84fdeea3be74a4496f52b89b95f99a6"
      }
     },
     "b0e8929bc4734658930eccfaa15957f4": {
      "model_module": "@jupyter-widgets/base",
      "model_module_version": "2.0.0",
      "model_name": "LayoutModel",
      "state": {}
     },
     "b965dc03b924460887f7e59b791d97ae": {
      "model_module": "@jupyter-widgets/controls",
      "model_module_version": "2.0.0",
      "model_name": "DescriptionStyleModel",
      "state": {
       "description_width": ""
      }
     },
     "bbb5eea0a42446bc94e7ee2c94e3d749": {
      "model_module": "@jupyter-widgets/controls",
      "model_module_version": "2.0.0",
      "model_name": "VBoxModel",
      "state": {
       "children": [
        "IPY_MODEL_ac0b7a0c34074e4ab0b2eed03b347845",
        "IPY_MODEL_a03d3d066bd3488e9dfb262b8bf6c619"
       ],
       "layout": "IPY_MODEL_bc0bd7b4321a4812897c010183bd45d1"
      }
     },
     "bc0bd7b4321a4812897c010183bd45d1": {
      "model_module": "@jupyter-widgets/base",
      "model_module_version": "2.0.0",
      "model_name": "LayoutModel",
      "state": {}
     },
     "c242e708a0d344b19a8f5415b79ea932": {
      "model_module": "@jupyter-widgets/controls",
      "model_module_version": "2.0.0",
      "model_name": "DropdownModel",
      "state": {
       "_options_labels": [
        "Total Cases",
        "Total Deaths",
        "New Deaths",
        "Total Recovered",
        "Active Cases",
        "Serious, Critical",
        "Tot Cases/ 1M pop",
        "Deaths/ 1M pop",
        "Total Tests",
        "Tests/ 1M pop",
        "Population",
        "Area (sq. mi.)",
        "Pop. Density (per sq. mi.)",
        "Coastline (coast/area ratio)",
        "Net migration",
        "Infant mortality (per 1000 births)",
        "GDP ($ per capita)",
        "Literacy (%)",
        "Phones (per 1000)",
        "Arable (%)",
        "Crops (%)",
        "Other (%)",
        "Climate",
        "Birthrate",
        "Deathrate",
        "Agriculture",
        "Industry",
        "Service"
       ],
       "description": "X axis:",
       "index": 7,
       "layout": "IPY_MODEL_2a857c44eae64e1eb2c850007d503353",
       "style": "IPY_MODEL_ca92fd66c96648e3b3139c7960f9c089"
      }
     },
     "ca92fd66c96648e3b3139c7960f9c089": {
      "model_module": "@jupyter-widgets/controls",
      "model_module_version": "2.0.0",
      "model_name": "DescriptionStyleModel",
      "state": {
       "description_width": ""
      }
     },
     "ce2cd2b043634d01b94d295de41a0aca": {
      "model_module": "@jupyter-widgets/controls",
      "model_module_version": "2.0.0",
      "model_name": "DropdownModel",
      "state": {
       "_options_labels": [
        "Total Cases",
        "Total Deaths",
        "New Deaths",
        "Total Recovered",
        "Active Cases",
        "Serious, Critical",
        "Tot Cases/ 1M pop",
        "Deaths/ 1M pop",
        "Total Tests",
        "Tests/ 1M pop",
        "Population",
        "Area (sq. mi.)",
        "Pop. Density (per sq. mi.)",
        "Coastline (coast/area ratio)",
        "Net migration",
        "Infant mortality (per 1000 births)",
        "GDP ($ per capita)",
        "Literacy (%)",
        "Phones (per 1000)",
        "Arable (%)",
        "Crops (%)",
        "Other (%)",
        "Climate",
        "Birthrate",
        "Deathrate",
        "Agriculture",
        "Industry",
        "Service"
       ],
       "description": "X axis:",
       "index": 7,
       "layout": "IPY_MODEL_1851a2cd07e74f598db7c21e45c804b2",
       "style": "IPY_MODEL_b965dc03b924460887f7e59b791d97ae"
      }
     },
     "e1073cf431b346b9aec8e6b506540ee8": {
      "model_module": "@jupyter-widgets/controls",
      "model_module_version": "2.0.0",
      "model_name": "VBoxModel",
      "state": {
       "children": [
        "IPY_MODEL_c242e708a0d344b19a8f5415b79ea932",
        "IPY_MODEL_131b53806ace42c38e2ba3e205b284bf"
       ],
       "layout": "IPY_MODEL_f04104ff044b453b8dde2218ffae3086"
      }
     },
     "eb3f5605b1bb4b6eb9d4bd81d784eb98": {
      "model_module": "@jupyter-widgets/controls",
      "model_module_version": "2.0.0",
      "model_name": "VBoxModel",
      "state": {
       "children": [
        "IPY_MODEL_ce2cd2b043634d01b94d295de41a0aca",
        "IPY_MODEL_196587ff86fd45bd8986eb00d49a00ed"
       ],
       "layout": "IPY_MODEL_b0e8929bc4734658930eccfaa15957f4"
      }
     },
     "f04104ff044b453b8dde2218ffae3086": {
      "model_module": "@jupyter-widgets/base",
      "model_module_version": "2.0.0",
      "model_name": "LayoutModel",
      "state": {}
     },
     "f84fdeea3be74a4496f52b89b95f99a6": {
      "model_module": "@jupyter-widgets/controls",
      "model_module_version": "2.0.0",
      "model_name": "DescriptionStyleModel",
      "state": {
       "description_width": ""
      }
     }
    },
    "version_major": 2,
    "version_minor": 0
   }
  }
 },
 "nbformat": 4,
 "nbformat_minor": 5
}
